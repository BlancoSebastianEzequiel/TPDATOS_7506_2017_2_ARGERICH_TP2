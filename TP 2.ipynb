{
 "cells": [
  {
   "cell_type": "markdown",
   "metadata": {},
   "source": [
    "<h3>TODO</h3>\n",
    "<p>El algoritmo consiste principalmente en un <a href=#Loop>loop</a>, en el que para cada archivo:</p>\n",
    "<ol>\n",
    "    <p><li><a href=#Leer><b>Leer</b></a>, para tenerlo en un dataframe (<b style=\"color:green;\">OK</b>)</li></p>\n",
    "    <p><li><a href=#Filtrar><b>Filtrar</b></a>, para quedarnos con los registros y columnas relevantes (<b style=\"color:green;\">OK</b>)</li></p>\n",
    "    <p><li><a href=#Agregar><b>Agregar</b></a>, datos adicionales, para poder trabajar mejor:\n",
    "        <ol>\n",
    "            <li>Agregar mes y año del archivo, para usar en lugar de la fecha de creación (<b style=\"color:green;\">OK</b>)</li>\n",
    "            <li>Agregar todos los datos que se podrían obtener del campo descripción, como cochera, vista al mar, etc (<b style=\"color:red;\">TODO</b>)</li>\n",
    "            <li>Agregar todos los datos adicionales resultantes de la unión con los otros dataframes (hospitales, subte, etc) (<b style=\"color:red;\">TODO</b>)</li>\n",
    "        </ol></li></p>\n",
    "    <p><li><a href=#Calcular><b>Calcular</b></a>, el valor para todos los registros que no tengan precio: (<b style=\"color:red;\">TODO</b>)\n",
    "        <ol>\n",
    "            <li><a href=#Obtener><b>Obtener</b></a> las propiedades más semejantes (como con KNN):\n",
    "                <ul>\n",
    "                    <li>Restricción: La distancia temporal entre propiedades no debiera ser mayor a 3-6 meses.</li>\n",
    "                </ul></li>\n",
    "            <li>En base a eso, obtener el coeficiente promedio (valor propiedad / (precio unitario promedio * superficie total))</li>\n",
    "            <li>Finalmente, multiplicar el coeficiente por precio unitario promedio y superficie</li>\n",
    "        </ol></li></p>\n",
    "    <p><li><b>Agregar</b>, el dataframe a uno global, para poder predecir mejor las siguientes propiedades, en cuanto a la distancia temporal (<b style=\"color:red;\">TODO</b>)</li></p>\n",
    "</ol>\n",
    "\n",
    "<p>Finalmente, se realiza el reporte de las propiedades de las que se quiere obtener el valor (en este caso, agosto 2017) (<b style=\"color:red;\">TODO</b>)</p>"
   ]
  },
  {
   "cell_type": "code",
   "execution_count": null,
   "metadata": {
    "collapsed": true
   },
   "outputs": [],
   "source": [
    "# No vamos a graficar, de momento\n",
    "#%matplotlib inline\n",
    "\n",
    "import pandas as pd\n",
    "import numpy as np\n",
    "#import matplotlib.pyplot as plt\n",
    "from os import listdir"
   ]
  },
  {
   "cell_type": "code",
   "execution_count": null,
   "metadata": {
    "collapsed": true
   },
   "outputs": [],
   "source": [
    "#Funciones de utilería\n",
    "\n",
    "def SeleccionarSubCampo(campo, separador, indice):\n",
    "    \"\"\"Selecciona un elemento de una lista en string\"\"\"\n",
    "    return campo.split(separador)[indice]\n",
    "\n",
    "def SacarColumna(dataFrame, columnName):\n",
    "    \"\"\"Quita una columna de un dataframe. Si no existe, no hace nada\"\"\"\n",
    "    if columnName in dataFrame:\n",
    "        dataFrame.drop(columnName, axis = 1, inplace = True)\n",
    "\n",
    "def SacarListaColumnas(dataFrame, columnNameList):\n",
    "    \"\"\"Quita una lista de columnas de un dataframe\"\"\"\n",
    "    for columnName in columnNameList:\n",
    "        SacarColumna(dataFrame, columnName)\n",
    "\n",
    "def ResolveSerie(serieFrom, function, indexForUse):\n",
    "    if (serieFrom is None):\n",
    "        return pd.Series(None, index = indexForUse)\n",
    "    return pd.Series([function(x) for x in serieFrom], index = indexForUse)\n",
    "\n",
    "def ResolveColumn(dataFrame, columnNameFrom, columnNameTo, function):\n",
    "    dataFrame[columnNameTo] = ResolveSerie(dataFrame[columnNameFrom], function, dataFrame.index)"
   ]
  },
  {
   "cell_type": "markdown",
   "metadata": {},
   "source": [
    "<p>Función que lee dataframes</p>\n",
    "<a name='Leer'/>"
   ]
  },
  {
   "cell_type": "code",
   "execution_count": null,
   "metadata": {
    "collapsed": true
   },
   "outputs": [],
   "source": [
    "def LeerDataFrame(nombreArchivo):\n",
    "    \"\"\"Función que lee un archivo y devuelve un dataframe\"\"\"\n",
    "    return pd.read_csv(nombreArchivo, low_memory = False)\n"
   ]
  },
  {
   "cell_type": "markdown",
   "metadata": {},
   "source": [
    "<p>Funciones que filtran datos</p>\n",
    "<a name='Filtrar'/>"
   ]
  },
  {
   "cell_type": "code",
   "execution_count": null,
   "metadata": {},
   "outputs": [],
   "source": [
    "def FiltrarPais(dataFrame, listaPaises):\n",
    "    \"\"\"Devuelve un dataframe con la lista de países filtrado\"\"\"\n",
    "    if not 'country' in dataFrame:\n",
    "        ResolveColumn(dataFrame, 'place_with_parent_names', 'country', lambda x: SeleccionarSubCampo(x, '|', 1))\n",
    "    dataFrame = dataFrame[dataFrame['country'].isin(listaPaises)]\n",
    "    SacarColumna(dataFrame, 'country')\n",
    "    return dataFrame\n",
    "\n",
    "def FiltrarProvincia(dataFrame, listaProvincias):\n",
    "    \"\"\"Devuelve un dataframe con la lista de países filtrado\"\"\"\n",
    "    if not 'state_name' in dataFrame:\n",
    "        ResolveColumn(dataFrame, 'place_with_parent_names', 'state_name', lambda x: SeleccionarSubCampo(x, '|', 2))\n",
    "    dataFrame = dataFrame[dataFrame['state_name'].isin(listaProvincias)]\n",
    "    return dataFrame\n",
    "\n",
    "def EliminarColumnasNoRelevantes(dataSet):\n",
    "    SacarListaColumnas(dataSet, ['properati_url',\n",
    "                                 'operation',\n",
    "                                 'geonames_id',\n",
    "                                 'lat-lon',\n",
    "                                 'currency',\n",
    "                                 'price_aprox_local_currency',\n",
    "                                 'image_thumbnail'])\n",
    "\n",
    "def AplicarFiltros(dataFrame):\n",
    "    dataFrame = FiltrarPais(dataFrame, ['Argentina'])\n",
    "    dataFrame = FiltrarProvincia(dataFrame, ['Capital Federal',\n",
    "                               'Bs.As. G.B.A. Zona Norte',\n",
    "                               'Bs.As. G.B.A. Zona Oeste',\n",
    "                               'Bs.As. G.B.A. Zona Sur'])\n",
    "    EliminarColumnasNoRelevantes(dataFrame)\n",
    "    dataFrame.reindex()\n",
    "    return dataFrame\n"
   ]
  },
  {
   "cell_type": "code",
   "execution_count": null,
   "metadata": {},
   "outputs": [],
   "source": [
    "def ProcesarDescripcion(descripcion):\n",
    "    diccionario = {}\n",
    "    return diccionario\n",
    "\n",
    "def ProcesarSerieDescripcion(dataFrame):\n",
    "    return ResolveSerie(dataFrame['descripcion'] if 'A' in dataFrame.columns else None, ProcesarDescripcion, dataFrame.index)"
   ]
  },
  {
   "cell_type": "markdown",
   "metadata": {},
   "source": [
    "<p>Funciones que agregan información<p>\n",
    "<a name='Agregar'/>"
   ]
  },
  {
   "cell_type": "code",
   "execution_count": null,
   "metadata": {},
   "outputs": [],
   "source": [
    "def AgregarFechaDeArchivo(dataFrame, archivo):\n",
    "    archiveParts = archivo.split('-')\n",
    "    dumpDate = archiveParts[2] + '-' + archiveParts[3]\n",
    "    dataFrame['dump_date'] = pd.Series(dumpDate, index = dataFrame.index)\n",
    "\n",
    "def AgregarBarrio(dataFrame):\n",
    "    if not 'barrio' in dataFrame:\n",
    "        ResolveColumn(dataFrame, 'place_with_parent_names', 'barrio', lambda x: SeleccionarSubCampo(x, '|', 3))\n",
    "    SacarColumna(dataFrame, 'place_with_parent_names')\n",
    "\n",
    "def AgregarCampoDesdeDescripcion(descripcionesProcesadas, campo, dataFrame):\n",
    "    dataFrame[campo] = ResolveSerie(descripcionesProcesadas, lambda descripcion: descripcion[campo], dataFrame.index)\n",
    "\n",
    "def AgregarOtrosDatos(dataFrame):\n",
    "    descripcionesProcesadas = ProcesarSerieDescripcion(dataFrame)\n",
    "    #como ejemplo:\n",
    "    #AgregarCampoDesdeDescripcion(descripcionesProcesadas, 'cochera', dataFrame)\n",
    "\n",
    "def AgregarInformacion(dataFrame, archivo):\n",
    "    AgregarFechaDeArchivo(dataFrame, archivo)\n",
    "    AgregarBarrio(dataFrame)\n",
    "    AgregarOtrosDatos(dataFrame)\n",
    "    return dataFrame"
   ]
  },
  {
   "cell_type": "markdown",
   "metadata": {},
   "source": [
    "<p>Obtener los vecinos más semejantes</p>\n",
    "<a name='Obtener'/>"
   ]
  },
  {
   "cell_type": "code",
   "execution_count": null,
   "metadata": {
    "collapsed": true
   },
   "outputs": [],
   "source": [
    "\n",
    "def ObtenerVecinosCluster(registro, criterio):\n",
    "    \"\"\"Devuelve los integrantes de un cluster, según algún criterio de clusterización.\"\"\"\n",
    "    listaVecinos = []\n",
    "    #TODO: Implementar la función. Vas a tener que crear las clusterizaciones antes, viejo\n",
    "    return listaVecinos\n",
    "\n",
    "def ObtenerListaDeVecinosCluster(registro, listaCriterios):\n",
    "    lista_de_listaVecinos = []\n",
    "    for criterio in listaCriterios:\n",
    "        lista_de_listaVecinos += ObtenerVecinosCluster(registro, listaCriterios)\n",
    "\n",
    "    return lista_de_listaVecinos\n",
    "\n",
    "def InnerJoinDeVecinos(listas_de_listaVecinos, lista_funciones_que_aplican_criterios_para_figurar):\n",
    "    \"\"\"Devuelve una lista de vecinos que aparezcan en varias listas, según algunos criterios\"\"\"\n",
    "    listaDeVecinos_versionFinal_9999 = []\n",
    "    #TODO: Implementar la función. Si, ya se que todo este quilombo sería más fácil en Spark,\n",
    "    # pero no como no anda en windows vas a tener que arreglártelas solo\n",
    "    return listaDeVecinos_versionFinal_9999\n",
    "\n",
    "def ObtenerListaPosiblesVecinos(registro):\n",
    "    \"\"\"Devuelve una lista con los candidatos a vecinos más cercanos\"\"\"\n",
    "    listaPosiblesVecinos = []\n",
    "    #TODO: Implementar la función.\n",
    "    #Tener en cuenta que es cara. Buscar maneras de optimizar (clusterización multicapa?)\n",
    "\n",
    "    listaCriterios = [] #todos los tipos de criterios con los que se clusterizó\n",
    "    lista_de_listaVecinos = ObtenerListaDeVecinosCluster(registro, listaCriterios)\n",
    "\n",
    "    lista_funciones_que_aplican_criterios_para_figurar = [] #andá a saber cuáles son\n",
    "    listaDeCandidatosAVecinos = InnerJoinDeVecinos(lista_de_listaVecinos, lista_funciones_que_aplican_criterios_para_figurar)\n",
    "    return listaDeCandidatosAVecinos\n",
    "\n",
    "def ObtenerKVecinosMasCercanos(registro, k):\n",
    "    \"\"\"Devuelve una lista de los k vecinos más cercanos a una propiedad, siendo cada elemento\n",
    "    una tupla del coeficiente general y su semejanza con el registro en cuestión\"\"\"\n",
    "    vecinos = [] # algún heap de máximos, donde la semejanza sea el comparable y el registroVecino el dato\n",
    "    #TODO: Implementar la función (lo más eficiente posible, pleaseeee)\n",
    "    listaDeCandidatosAVecinos = ObtenerListaPosiblesVecinos(registro)\n",
    "\n",
    "    for posibleVecino in listaDeCandidatosAVecinos:\n",
    "        relevancia = False #que_se_yo(registro, posibleVecino, otros_datos)\n",
    "        if relevancia:\n",
    "            vecinos += posibleVecino\n",
    "\n",
    "    #sacar los k primeros (más semejantes)\n",
    "    return vecinos[:k]\n"
   ]
  },
  {
   "cell_type": "markdown",
   "metadata": {},
   "source": [
    "<p>Calcular el precio de una propiedad</p>\n",
    "<a name='Calcular'/>"
   ]
  },
  {
   "cell_type": "code",
   "execution_count": null,
   "metadata": {},
   "outputs": [],
   "source": [
    "#TODO: Implementar, completar, refactorizar, ya tu sabes\n",
    "\n",
    "def ObtenerPrecioUnitarioPromedio(barrio, año_y_mes):\n",
    "    \"\"\"Devuelve el precio unitario promedio de un barrio. En caso de no existir, devuelve 0\"\"\"\n",
    "    #TODO: Implementar la función\n",
    "    #if no_hay_data(barrio, año_y_mes):\n",
    "        #return 0\n",
    "    return 1000\n",
    "\n",
    "def ObtenerListaDePreciosUnitarios(barrio, año_y_mes, k_meses_regresion):\n",
    "    \"\"\"Devuelve una lista de valores para realizar una regresión\"\"\"\n",
    "    listaValores = []\n",
    "    #TODO: Implementar la función\n",
    "    return listaValores\n",
    "\n",
    "\n",
    "def CalcularRegresion(listaValores):\n",
    "    #TODO: Mirar regresion en apuntes de Analisis Numerico y completar\n",
    "    valor = 0\n",
    "    return valor\n",
    "\n",
    "def CalcularPrecioUnitarioPromedioPorRegresion(barrio, año_y_mes):\n",
    "    \"\"\"Calcula por regresión el precio unitario promedio de un barrio\"\"\"    \n",
    "    #TODO: Implementar la función. No usar más de 3-6 meses.\n",
    "    #En serio, cambiar por un número\n",
    "    k_meses_regresion = np.random.random_integers(low = 3, high = 6)\n",
    "\n",
    "    lista_datos_regresion = ObtenerListaDePreciosUnitarios(barrio, año_y_mes, k_meses_regresion)\n",
    "    precioUnitario = CalcularRegresion(lista_datos_regresion)\n",
    "    return precioUnitario\n",
    "\n",
    "def CalcularPrecioPorLimitroficidadDeBarrios(barrio, año_y_mes):\n",
    "    \"\"\"Calcula el precio unitario promedio de un barrio según los limitrofes\"\"\"\n",
    "    #TODO: Implementar la funcion. Tener cuidado de no caer en loops infinitos.\n",
    "    return 0\n",
    "\n",
    "def CalcularPrecioUnitarioPromedio(barrio, año_y_mes):\n",
    "    \"\"\"Calcula precio unitario promedio mediante regresión. En caso de que no halla\n",
    "    registros para ese barrio, tomar el promedio de los barrios limítrofes\"\"\"\n",
    "    precioUnitario = CalcularPrecioUnitarioPromedioPorRegresion(barrio, año_y_mes)\n",
    "    if (precioUnitario == 0):\n",
    "        CalcularPrecioPorLimitroficidadDeBarrios(barrio, año_y_mes)\n",
    "    return precioUnitario\n",
    "\n",
    "def CalcularPrecioUnitarioPromedioGeneral(barrio, año_y_mes):\n",
    "    \"\"\"Devuelve el precio unitario promedio según el barrio y el año/mes.\n",
    "    En caso de no figurar, se calcula por regresión y/o limitroficidad de barrios\"\"\"    \n",
    "    precioUnitario = ObtenerPrecioUnitarioPromedio(barrio, año_y_mes)\n",
    "    if (precioUnitario == 0):\n",
    "        precioUnitario = CalcularPrecioUnitarioPromedio(barrio, año_y_mes)    \n",
    "    return precioUnitario\n",
    "\n",
    "def ObtenerPrecioUnitarioPromedio(registro):\n",
    "    \"\"\"Devuelve el precio unitario promedio según el barrio y el año/mes de una publicación de venta\"\"\"\n",
    "    return CalcularPrecioUnitarioPromedioGeneral(registro['barrio'], registro['dump_date'])\n",
    "\n",
    "def ObtenerCoeficienteGeneral(registro):\n",
    "    \"\"\"Devuelve el coeficiente general de un registro\"\"\"\n",
    "    return registro['price'] / (registro['surface_in_m2'] * ObtenerPrecioUnitarioPromedio(registro))\n",
    "\n",
    "def CalcularCoeficienteGeneral(registro):\n",
    "    \"\"\"Calcula el coeficiente general en base a un promedio ponderado con propiedades semejantes.\n",
    "    Para esto se requiere obtener un listado de los k vecinos más semejantes (símil KNN)\"\"\"\n",
    "    #TODO: determinar k? usar clusterización? etc?\n",
    "    k = np.random.random_integers(low = 5, high = 100)\n",
    "    listaVecinos = ObtenerKVecinosMasCercanos(registro, k)\n",
    "    coeficiente = 0\n",
    "    for vecino in listaVecinos:\n",
    "        coeficiente += vecino[0] * vecino[1]\n",
    "    return coeficiente\n",
    "\n",
    "def CalcularPrecio(registro):\n",
    "    precioUnitarioPromedio = ObtenerPrecioUnitarioPromedio(registro)\n",
    "    coeficienteGeneral = CalcularCoeficienteGeneral(registro)\n",
    "    return registro['surface_in_m2'] * coeficienteGeneral * precioUnitarioPromedio"
   ]
  },
  {
   "cell_type": "code",
   "execution_count": null,
   "metadata": {
    "collapsed": true
   },
   "outputs": [],
   "source": [
    "#Funciones útiles\n",
    "\n",
    "def CrearDataFrame(columnas):\n",
    "    \"\"\"Crea un dataframe vacío, cuyas columnas se crean a\n",
    "    partir de una lista de pares nombre y dtype\"\"\"\n",
    "    dataframe = pd.DataFrame()\n",
    "    for col in columnas_gBarriosPrecios:\n",
    "        dataframe[col[0]] = pd.Series(name = col[0], dtype = col[1])\n",
    "    return dataframe\n"
   ]
  },
  {
   "cell_type": "code",
   "execution_count": null,
   "metadata": {},
   "outputs": [],
   "source": [
    "#variables \"globales\"\n",
    "\n",
    "# Ruta de la carpeta con los archivos de datos originales\n",
    "gRutaCarpetaOriginales = \"./properties/\"\n",
    "\n",
    "#TODO: revisar si vale la pena\n",
    "# Dataframe con estadísticas de precio por barrio y mes\n",
    "\n",
    "columnas_gBarriosPrecios = [('state_name', np.dtype('str')),\n",
    "                            ('place_name', np.dtype('str')),\n",
    "                            ('entry_date', np.dtype('str')),\n",
    "                            ('mean price', np.dtype('float')),\n",
    "                            ('min_price', np.dtype('float')),\n",
    "                            ('max_price', np.dtype('float'))]\n",
    "\n",
    "gBarriosPrecios = CrearDataFrame(columnas_gBarriosPrecios)\n",
    "\n",
    "gBarriosPrecios.info()"
   ]
  },
  {
   "cell_type": "code",
   "execution_count": null,
   "metadata": {
    "collapsed": true
   },
   "outputs": [],
   "source": [
    "# Hacemos un rápido chequeo de los archivos, para saber si alguno se descargó mal\n",
    "def CheckCorruptDownloads():\n",
    "    for archive in listdir(gRutaCarpetaOriginales):\n",
    "        if \".csv\" in archive:\n",
    "            nombreArchivo = gRutaCarpetaOriginales + archive\n",
    "            try:\n",
    "                print(nombreArchivo, end = ': ')\n",
    "                df = pd.read_csv(nombreArchivo, low_memory = False)\n",
    "                print('Ok')\n",
    "            except ValueError:\n",
    "                print(\"Error, archivo corrupto. Descargar de nuevo\")\n",
    "\n",
    "#CheckCorruptDownloads()"
   ]
  },
  {
   "cell_type": "code",
   "execution_count": null,
   "metadata": {
    "collapsed": true
   },
   "outputs": [],
   "source": [
    "def ProcesarDataFrame(rutaArchivo, nombreArchivo):\n",
    "    \"\"\"Procesa un archivo csv, y devuelve un dataFrame listo para usar\"\"\"\n",
    "    dataFrame = LeerDataFrame(rutaArchivo)\n",
    "    dataFrame = AplicarFiltros(dataFrame)\n",
    "    dataFrame = AgregarInformacion(dataFrame, nombreArchivo)\n",
    "    return dataFrame\n"
   ]
  },
  {
   "cell_type": "markdown",
   "metadata": {},
   "source": [
    "<p>Loop principal</p>\n",
    "<a name='Loop'/>"
   ]
  },
  {
   "cell_type": "code",
   "execution_count": null,
   "metadata": {},
   "outputs": [],
   "source": [
    "for archive in listdir(gRutaCarpetaOriginales):\n",
    "    if \".csv\" in archive:\n",
    "        print(archive)\n",
    "        df = ProcesarDataFrame(gRutaCarpetaOriginales + archive, archive)\n",
    "\n",
    "        if 'price' not in df:\n",
    "            df['price'] = pd.Series(name = 'price', dtype = np.dtype('float'))\n",
    "\n",
    "        #TODO: Calcular precio en caso de ser nulo o cero\n",
    "\n",
    "        print(df.info())\n",
    "    break"
   ]
  },
  {
   "cell_type": "code",
   "execution_count": null,
   "metadata": {
    "collapsed": true
   },
   "outputs": [],
   "source": []
  }
 ],
 "metadata": {
  "kernelspec": {
   "display_name": "Python 3",
   "language": "python",
   "name": "python3"
  },
  "language_info": {
   "codemirror_mode": {
    "name": "ipython",
    "version": 3
   },
   "file_extension": ".py",
   "mimetype": "text/x-python",
   "name": "python",
   "nbconvert_exporter": "python",
   "pygments_lexer": "ipython3",
   "version": "3.6.2rc1"
  }
 },
 "nbformat": 4,
 "nbformat_minor": 2
}
