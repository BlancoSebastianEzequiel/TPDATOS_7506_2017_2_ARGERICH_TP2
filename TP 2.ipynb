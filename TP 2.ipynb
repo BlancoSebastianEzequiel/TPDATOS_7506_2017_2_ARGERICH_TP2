{
 "cells": [
  {
   "cell_type": "markdown",
   "metadata": {},
   "source": [
    "#TODO\n",
    "\n",
    "El algoritmo consiste principalmente en un loop que para cada archivo:\n",
    "1) Leer, para tenerlo en un dataframe (OK)\n",
    "2) Filtrar, para quedarnos con los registros y columnas relevantes (OK)\n",
    "3) Agregar, datos adicionales, para poder trabajar mejor:\n",
    "    1) Agregar mes y año del archivo, para usar en lugar de la fecha de creación (OK)\n",
    "    2) Agregar todos los datos que se podrían obtener del campo descripición, como cochera, vista al mar, etc (TODO)\n",
    "    3) Agregar todos los datos adicionales resultantes de la unión con los otros dataframes (hospitales, subte, etc) (TODO)\n",
    "4) Finalmente, para los registros que no tengan precio, calcular el valor: (TODO)\n",
    "    1) Obtener las propiedades más semejantes (como con KNN):\n",
    "        1) Restricción: La distancia temporal entre propiedades no puede ser mayor a 3-6 meses.\n",
    "    2) En base a eso, obtener el coeficiente promedio (valor propiedad / (precio unitario promedio * superficie total))\n",
    "    3) Finalmente, multiplicar el coeficiente por precio unitario promedio y superficie\n",
    "5) Agregar el dataframe a uno global, para poder predecir mejor las siguientes propiedades, en cuanto a la distancia temporal (TODO)\n",
    "\n",
    "Finalmente, se realiza el reporte de las propiedades de las que se quiere obtener el valor (en este caso, agosto 2017) (TODO)"
   ]
  },
  {
   "cell_type": "code",
   "execution_count": null,
   "metadata": {
    "collapsed": true
   },
   "outputs": [],
   "source": [
    "# No vamos a graficar, de momento\n",
    "#%matplotlib inline\n",
    "\n",
    "import pandas as pd\n",
    "import numpy as np\n",
    "#import matplotlib.pyplot as plt\n",
    "from os import listdir"
   ]
  },
  {
   "cell_type": "code",
   "execution_count": null,
   "metadata": {
    "collapsed": true
   },
   "outputs": [],
   "source": [
    "#Funciones de utilería\n",
    "\n",
    "def SeleccionarSubCampo(campo, separador, indice):\n",
    "    \"\"\"Selecciona un elemento de una lista en string\"\"\"\n",
    "    return campo.split(separador)[indice]\n",
    "\n",
    "def SacarColumna(dataFrame, columnName):\n",
    "    \"\"\"Quita una columna de un dataframe. Si no existe, no hace nada\"\"\"\n",
    "    if columnName in dataFrame:\n",
    "        dataFrame.drop(columnName, axis = 1, inplace = True)\n",
    "\n",
    "def SacarListaColumnas(dataFrame, columnNameList):\n",
    "    \"\"\"Quita una lista de columnas de un dataframe\"\"\"\n",
    "    for columnName in columnNameList:\n",
    "        SacarColumna(dataFrame, columnName)\n",
    "\n",
    "def ResolveColumn(dataFrame, columnNameFrom, columnNameTo, function):\n",
    "    dataFrame[columnNameTo] = pd.Series([function(x) for x in dataFrame[columnNameFrom]], index = dataFrame.index)"
   ]
  },
  {
   "cell_type": "code",
   "execution_count": null,
   "metadata": {
    "collapsed": true
   },
   "outputs": [],
   "source": [
    "def LeerDataFrame(nombreArchivo):\n",
    "    \"\"\"Función que lee un archivo y devuelve un dataframe\"\"\"\n",
    "    return pd.read_csv(nombreArchivo, low_memory = False)\n",
    "\n",
    "# Funciones que filtran datos\n",
    "def FiltrarPais(dataFrame, listaPaises):\n",
    "    \"\"\"Devuelve un dataframe con la lista de países filtrado\"\"\"\n",
    "    if not 'country' in dataFrame:\n",
    "        ResolveColumn(dataFrame, 'place_with_parent_names', 'country', lambda x: SeleccionarSubCampo(x, '|', 1))\n",
    "    dataFrame = dataFrame[dataFrame['country'].isin(listaPaises)]\n",
    "    SacarColumna(dataFrame, 'country')\n",
    "    return dataFrame\n",
    "\n",
    "def FiltrarProvincia(dataFrame, listaProvincias):\n",
    "    \"\"\"Devuelve un dataframe con la lista de países filtrado\"\"\"\n",
    "    if not 'state_name' in dataFrame:\n",
    "        ResolveColumn(dataFrame, 'place_with_parent_names', 'state_name', lambda x: SeleccionarSubCampo(x, '|', 2))\n",
    "    dataFrame = dataFrame[dataFrame['state_name'].isin(listaProvincias)]\n",
    "    return dataFrame\n",
    "\n",
    "def EliminarColumnasNoRelevantes(dataSet):\n",
    "    SacarListaColumnas(dataSet, ['properati_url',\n",
    "                                 'operation',\n",
    "                                 'geonames_id',\n",
    "                                 'lat-lon',\n",
    "                                 'currency',\n",
    "                                 'price_aprox_local_currency',\n",
    "                                 'image_thumbnail'])\n",
    "\n",
    "def AplicarFiltros(dataFrame):\n",
    "    dataFrame = FiltrarPais(dataFrame, ['Argentina'])\n",
    "    dataFrame = FiltrarProvincia(dataFrame, ['Capital Federal',\n",
    "                               'Bs.As. G.B.A. Zona Norte',\n",
    "                               'Bs.As. G.B.A. Zona Oeste',\n",
    "                               'Bs.As. G.B.A. Zona Sur'])\n",
    "    EliminarColumnasNoRelevantes(dataFrame)\n",
    "    dataFrame.reindex()\n",
    "    return dataFrame\n",
    "\n",
    "# Funciones que agregan información\n",
    "def AgregarFechaDeArchivo(dataFrame, archivo):\n",
    "    archiveParts = archivo.split('-')\n",
    "    dumpDate = archiveParts[2] + '-' + archiveParts[3]\n",
    "    dataFrame['dump_date'] = pd.Series(dumpDate, index = dataFrame.index)\n",
    "\n",
    "def AgregarBarrio(dataFrame):\n",
    "    if not 'barrio' in dataFrame:\n",
    "        ResolveColumn(dataFrame, 'place_with_parent_names', 'barrio', lambda x: SeleccionarSubCampo(x, '|', 3))\n",
    "    SacarColumna(dataFrame, 'place_with_parent_names')\n",
    "\n",
    "def AgregarInformacion(dataFrame, archivo):\n",
    "    AgregarFechaDeArchivo(dataFrame, archivo)\n",
    "    AgregarBarrio(dataFrame)\n",
    "    return dataFrame"
   ]
  },
  {
   "cell_type": "code",
   "execution_count": null,
   "metadata": {
    "collapsed": true
   },
   "outputs": [],
   "source": [
    "#Funciones útiles\n",
    "\n",
    "def CrearDataFrame(columnas):\n",
    "    \"\"\"Crea un dataframe vacío, cuyas columnas se crean a\n",
    "    partir de una lista de pares nombre y dtype\"\"\"\n",
    "    dataframe = pd.DataFrame()\n",
    "    for col in columnas_gBarriosPrecios:\n",
    "        dataframe[col[0]] = pd.Series(name = col[0], dtype = col[1])\n",
    "    return dataframe\n"
   ]
  },
  {
   "cell_type": "code",
   "execution_count": null,
   "metadata": {},
   "outputs": [],
   "source": [
    "#variables \"globales\"\n",
    "\n",
    "# Ruta de la carpeta con los archivos de datos originales\n",
    "gRutaCarpetaOriginales = \"./properties/\"\n",
    "\n",
    "#TODO: revisar si vale la pena\n",
    "# Dataframe con estadísticas de precio por barrio y mes\n",
    "\n",
    "columnas_gBarriosPrecios = [('state_name', np.dtype('str')),\n",
    "                            ('place_name', np.dtype('str')),\n",
    "                            ('entry_date', np.dtype('str')),\n",
    "                            ('mean price', np.dtype('float')),\n",
    "                            ('min_price', np.dtype('float')),\n",
    "                            ('max_price', np.dtype('float'))]\n",
    "\n",
    "gBarriosPrecios = CrearDataFrame(columnas_gBarriosPrecios)\n",
    "\n",
    "gBarriosPrecios.info()"
   ]
  },
  {
   "cell_type": "code",
   "execution_count": null,
   "metadata": {
    "collapsed": true
   },
   "outputs": [],
   "source": [
    "# Hacemos un rápido chequeo de los archivos, para saber si alguno se descargó mal\n",
    "def CheckCorruptDownloads():\n",
    "    for archive in listdir(gRutaCarpetaOriginales):\n",
    "        if \".csv\" in archive:\n",
    "            nombreArchivo = gRutaCarpetaOriginales + archive\n",
    "            try:\n",
    "                print(nombreArchivo, end = ': ')\n",
    "                df = pd.read_csv(nombreArchivo, low_memory = False)\n",
    "                print('Ok')\n",
    "            except ValueError:\n",
    "                print(\"Error, archivo corrupto. Descargar de nuevo\")\n",
    "\n",
    "#CheckCorruptDownloads()"
   ]
  },
  {
   "cell_type": "code",
   "execution_count": null,
   "metadata": {},
   "outputs": [],
   "source": [
    "def ProcesarDataFrame(rutaArchivo, nombreArchivo):\n",
    "    \"\"\"Procesa un archivo csv, y devuelve un dataFrame listo para usar\"\"\"\n",
    "    dataFrame = LeerDataFrame(rutaArchivo)\n",
    "    dataFrame = AplicarFiltros(dataFrame)\n",
    "    dataFrame = AgregarInformacion(dataFrame, nombreArchivo)\n",
    "    return dataFrame\n",
    "\n",
    "# loop principal\n",
    "for archive in listdir(gRutaCarpetaOriginales):\n",
    "    if \".csv\" in archive:\n",
    "        print(archive)\n",
    "        df = ProcesarDataFrame(gRutaCarpetaOriginales + archive, archive)\n",
    "\n",
    "        if 'price' not in df:\n",
    "            df['price'] = pd.Series(name = 'price', dtype = np.dtype('float'))\n",
    "\n",
    "        #TODO: Calcular precio en caso de nulo o cero\n",
    "\n",
    "        print(df.info())\n",
    "    break"
   ]
  },
  {
   "cell_type": "code",
   "execution_count": null,
   "metadata": {
    "collapsed": true
   },
   "outputs": [],
   "source": []
  }
 ],
 "metadata": {
  "kernelspec": {
   "display_name": "Python 3",
   "language": "python",
   "name": "python3"
  },
  "language_info": {
   "codemirror_mode": {
    "name": "ipython",
    "version": 3
   },
   "file_extension": ".py",
   "mimetype": "text/x-python",
   "name": "python",
   "nbconvert_exporter": "python",
   "pygments_lexer": "ipython3",
   "version": "3.6.2rc1"
  }
 },
 "nbformat": 4,
 "nbformat_minor": 2
}
