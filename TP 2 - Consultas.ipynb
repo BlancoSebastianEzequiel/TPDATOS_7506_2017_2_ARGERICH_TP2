{
 "cells": [
  {
   "cell_type": "markdown",
   "metadata": {},
   "source": [
    "<h3>Consultas</h3>\n",
    "\n",
    "<p>Aquí nos encargamos de procesar y responder las consultas<p>"
   ]
  },
  {
   "cell_type": "code",
   "execution_count": null,
   "metadata": {},
   "outputs": [],
   "source": [
    "# No vamos a graficar, de momento\n",
    "#%matplotlib inline\n",
    "\n",
    "import pandas as pd\n",
    "import numpy as np\n",
    "#import matplotlib.pyplot as plt\n",
    "\n",
    "from machineLearning import dataFrameUtils\n",
    "from machineLearning import preprocessing\n",
    "from machineLearning import querying"
   ]
  },
  {
   "cell_type": "code",
   "execution_count": null,
   "metadata": {},
   "outputs": [],
   "source": [
    "import time\n",
    "\n",
    "start = time.time()\n",
    "\n",
    "gPromedioBarriosDF = dataFrameUtils.LeerDataFrame('PromediosBarrios.csv')\n",
    "gCoeficientesDF = dataFrameUtils.LeerDataFrame('Coeficientes.csv')\n",
    "gConsultaDF = dataFrameUtils.LeerDataFrame('properati_dataset_testing_noprice.csv')\n",
    "resultado = querying.ResolverConsulta(gConsultaDF, gCoeficientesDF, gPromedioBarriosDF)\n",
    "resultado.to_csv('resultado.csv', encoding = 'utf-8', index = False)\n",
    "\n",
    "end = time.time()\n",
    "totalTime = end - start\n",
    "print('Time used: ' + str(totalTime))"
   ]
  },
  {
   "cell_type": "code",
   "execution_count": null,
   "metadata": {
    "collapsed": true
   },
   "outputs": [],
   "source": []
  }
 ],
 "metadata": {
  "kernelspec": {
   "display_name": "Python 3",
   "language": "python",
   "name": "python3"
  },
  "language_info": {
   "codemirror_mode": {
    "name": "ipython",
    "version": 3
   },
   "file_extension": ".py",
   "mimetype": "text/x-python",
   "name": "python",
   "nbconvert_exporter": "python",
   "pygments_lexer": "ipython3",
   "version": "3.6.2rc1"
  }
 },
 "nbformat": 4,
 "nbformat_minor": 2
}
