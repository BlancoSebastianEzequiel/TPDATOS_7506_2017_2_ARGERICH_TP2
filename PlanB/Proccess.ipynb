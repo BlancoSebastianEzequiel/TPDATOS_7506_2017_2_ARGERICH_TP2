{
 "cells": [
  {
   "cell_type": "code",
   "execution_count": 179,
   "metadata": {},
   "outputs": [],
   "source": [
    "import pandas as pd\n",
    "import numpy as np\n",
    "from sklearn.cross_validation import train_test_split\n",
    "from sklearn.metrics import mean_squared_error"
   ]
  },
  {
   "cell_type": "code",
   "execution_count": 180,
   "metadata": {},
   "outputs": [],
   "source": [
    "#---------------------------------------------------------\n",
    "# DELETE TRASH COLUMNS\n",
    "#---------------------------------------------------------\n",
    "def deleteTrashColumns(df):\n",
    "    columns = list(df.columns.values)\n",
    "    for column in columns:\n",
    "        if \"unnamed\" in column.lower():\n",
    "            df.drop(column, axis = 1, inplace = True) \n",
    "    return df\n",
    "#---------------------------------------------------------\n",
    "# PROCESS TRAIN SET\n",
    "#---------------------------------------------------------\n",
    "def ProcessTrainSet(df, withPrice):\n",
    "    df.dropna(axis=0, how='any', subset=list(df.columns.values), inplace=True)\n",
    "    \n",
    "    target = df['price_aprox_usd'].tolist()\n",
    "    if withPrice:\n",
    "        df.drop('price_aprox_usd', axis = 1, inplace = True)\n",
    "    \n",
    "    columns = list(df.columns.values)\n",
    "    data = list(df.values)\n",
    "    return data, target\n",
    "#---------------------------------------------------------\n",
    "# GET DATA AS LIST\n",
    "#---------------------------------------------------------\n",
    "def GetDataAsList(df):\n",
    "    columns = list(df.columns.values)\n",
    "    data = list(df.values)\n",
    "    return data\n",
    "#---------------------------------------------------------\n",
    "# PRINT SCORE\n",
    "#---------------------------------------------------------\n",
    "def printScore(prediction, target):\n",
    "    err = mean_squared_error(prediction, target)\n",
    "    print \"mean_squared_error: \", err\n",
    "    digitsQuantity = len(str(err).split('.')[0])\n",
    "    print \"digitsQuantity: \", digitsQuantity\n",
    "#---------------------------------------------------------\n",
    "# SAVE FINAL DF\n",
    "#---------------------------------------------------------\n",
    "def saveFinalDF(predictions, ids):\n",
    "    aData = {'price_usd': predictions}\n",
    "    final = pd.DataFrame(data = aData, index=ids)\n",
    "    final.to_csv(\"properati_dataset_sample_submision.csv\", \\\n",
    "    index = True, header = True, sep = ',', encoding = 'utf-8-sig')\n",
    "    return final"
   ]
  },
  {
   "cell_type": "markdown",
   "metadata": {},
   "source": [
    "# Set de entrenamiento"
   ]
  },
  {
   "cell_type": "code",
   "execution_count": 181,
   "metadata": {},
   "outputs": [],
   "source": [
    "df = pd.read_csv(\"dataTrain.csv\", low_memory = False)\n",
    "df = deleteTrashColumns(df)\n",
    "dataTrain, targetTrain = ProcessTrainSet(df, True)"
   ]
  },
  {
   "cell_type": "code",
   "execution_count": 182,
   "metadata": {},
   "outputs": [
    {
     "name": "stdout",
     "output_type": "stream",
     "text": [
      "data size:  248616\n",
      "target size:  248616\n",
      "columns size:  22\n"
     ]
    }
   ],
   "source": [
    "columns = list(df.columns.values)\n",
    "print \"data size: \", len(dataTrain)\n",
    "print \"target size: \", len(targetTrain)\n",
    "print \"columns size: \", len(columns)"
   ]
  },
  {
   "cell_type": "markdown",
   "metadata": {},
   "source": [
    "# Set de test"
   ]
  },
  {
   "cell_type": "code",
   "execution_count": 183,
   "metadata": {},
   "outputs": [],
   "source": [
    "predictDf = pd.read_csv(\"dataTest.csv\", low_memory = False)\n",
    "ids = predictDf['id']\n",
    "predictDf.drop('id', axis = 1, inplace = True)\n",
    "predictDf = deleteTrashColumns(predictDf)\n",
    "data = GetDataAsList(predictDf)"
   ]
  },
  {
   "cell_type": "code",
   "execution_count": 184,
   "metadata": {},
   "outputs": [
    {
     "name": "stdout",
     "output_type": "stream",
     "text": [
      "data size:  14166\n",
      "df size:  14166\n",
      "columns size:  22\n"
     ]
    }
   ],
   "source": [
    "columns = list(predictDf.columns.values)\n",
    "print \"data size: \", len(data)\n",
    "print \"df size: \", len(predictDf.index)\n",
    "print \"columns size: \", len(columns)\n",
    "#row should be 14166"
   ]
  },
  {
   "cell_type": "markdown",
   "metadata": {},
   "source": [
    "# Split"
   ]
  },
  {
   "cell_type": "code",
   "execution_count": 185,
   "metadata": {},
   "outputs": [],
   "source": [
    "xTrain, xTest, yTrain, yTest = train_test_split(dataTrain, targetTrain, test_size=0.5, random_state=0)"
   ]
  },
  {
   "cell_type": "markdown",
   "metadata": {},
   "source": [
    "# Prediccion "
   ]
  },
  {
   "cell_type": "markdown",
   "metadata": {},
   "source": [
    "# Linear Regression"
   ]
  },
  {
   "cell_type": "code",
   "execution_count": 50,
   "metadata": {},
   "outputs": [],
   "source": [
    "from sklearn.linear_model import LinearRegression"
   ]
  },
  {
   "cell_type": "code",
   "execution_count": 13,
   "metadata": {},
   "outputs": [
    {
     "name": "stdout",
     "output_type": "stream",
     "text": [
      "train score:  0.21847958081\n"
     ]
    }
   ],
   "source": [
    "lr = LinearRegression(normalize = True)\n",
    "lr.fit(xTrain, yTrain)\n",
    "print \"train score: \", lr.score(xTrain, yTrain)\n",
    "yPredictionTest = lr.predict(xTest)"
   ]
  },
  {
   "cell_type": "code",
   "execution_count": 14,
   "metadata": {},
   "outputs": [
    {
     "name": "stdout",
     "output_type": "stream",
     "text": [
      "mean_squared_error:  107624412685.0\n",
      "digitsQuantity:  12\n"
     ]
    }
   ],
   "source": [
    "printScore(yPredictionTest, yTest)"
   ]
  },
  {
   "cell_type": "code",
   "execution_count": 15,
   "metadata": {},
   "outputs": [],
   "source": [
    "lrPrediciton = lr.predict(data)\n",
    "final = saveFinalDF(lrPrediciton, ids)"
   ]
  },
  {
   "cell_type": "code",
   "execution_count": 16,
   "metadata": {},
   "outputs": [
    {
     "data": {
      "text/html": [
       "<div>\n",
       "<style>\n",
       "    .dataframe thead tr:only-child th {\n",
       "        text-align: right;\n",
       "    }\n",
       "\n",
       "    .dataframe thead th {\n",
       "        text-align: left;\n",
       "    }\n",
       "\n",
       "    .dataframe tbody tr th {\n",
       "        vertical-align: top;\n",
       "    }\n",
       "</style>\n",
       "<table border=\"1\" class=\"dataframe\">\n",
       "  <thead>\n",
       "    <tr style=\"text-align: right;\">\n",
       "      <th></th>\n",
       "      <th>price_usd</th>\n",
       "    </tr>\n",
       "    <tr>\n",
       "      <th>id</th>\n",
       "      <th></th>\n",
       "    </tr>\n",
       "  </thead>\n",
       "  <tbody>\n",
       "    <tr>\n",
       "      <th>3632</th>\n",
       "      <td>8.872459e+07</td>\n",
       "    </tr>\n",
       "    <tr>\n",
       "      <th>3633</th>\n",
       "      <td>1.000604e+09</td>\n",
       "    </tr>\n",
       "    <tr>\n",
       "      <th>2263404</th>\n",
       "      <td>6.386923e+07</td>\n",
       "    </tr>\n",
       "    <tr>\n",
       "      <th>2263405</th>\n",
       "      <td>1.180260e+08</td>\n",
       "    </tr>\n",
       "    <tr>\n",
       "      <th>2263406</th>\n",
       "      <td>1.180039e+08</td>\n",
       "    </tr>\n",
       "  </tbody>\n",
       "</table>\n",
       "</div>"
      ],
      "text/plain": [
       "            price_usd\n",
       "id                   \n",
       "3632     8.872459e+07\n",
       "3633     1.000604e+09\n",
       "2263404  6.386923e+07\n",
       "2263405  1.180260e+08\n",
       "2263406  1.180039e+08"
      ]
     },
     "execution_count": 16,
     "metadata": {},
     "output_type": "execute_result"
    }
   ],
   "source": [
    "final.head()"
   ]
  },
  {
   "cell_type": "markdown",
   "metadata": {},
   "source": [
    "# Transformacion no lineal a lineal"
   ]
  },
  {
   "cell_type": "markdown",
   "metadata": {},
   "source": [
    "#  (Este metodo da precios demasiado altos y es peor que el lineal hecho en el paso anterior)"
   ]
  },
  {
   "cell_type": "markdown",
   "metadata": {},
   "source": [
    "Si tomamos como ejemplo una función f que toma la forma :  f(x) = a + bx + cx²\n",
    "\n",
    "La función f es no lineal en función de x pero si es lineal en función de los parámetros desconocidos a, b, y c. O visto de otra manera: podemos sustituir nuestras variables x por un array z tal que: z = [1, x, x²]. Con el que podríamos reescribir nuestra función f como f(z) = a z0 + bz1 + c*z2\n",
    "\n",
    "Scikit-learn tiene un objeto PolynomialFeatures que nos va a servir para convertir nuestra variable x en un array z del tipo z = [1, x, x2, …, n^n], que es lo que nos interesa.\n",
    "\n",
    "El resultado de esa transformación se la pasamos a nuestro modelo Ridge. Para facilitar la tarea en este tipo de casos —donde se realizan varios pasos que van desde el pre-tratamiento de los datos hasta un posible post-tratamiento pasando por el entrenamiento—, podemos hacer uso de las Pipeline que nos permiten encadenar multiples estimadores en uno. Esto es especialmente útil cuando hay secuencia de pasos predefinidos en el procesado de datos con, por ejemplo, selección de atributos, normalización y clasificación."
   ]
  },
  {
   "cell_type": "code",
   "execution_count": 186,
   "metadata": {},
   "outputs": [],
   "source": [
    "from sklearn.linear_model import Ridge\n",
    "from sklearn.preprocessing import PolynomialFeatures\n",
    "from sklearn.linear_model import LinearRegression"
   ]
  },
  {
   "cell_type": "code",
   "execution_count": 187,
   "metadata": {},
   "outputs": [
    {
     "data": {
      "text/plain": [
       "0.47584163502095844"
      ]
     },
     "execution_count": 187,
     "metadata": {},
     "output_type": "execute_result"
    }
   ],
   "source": [
    "poly = PolynomialFeatures(degree = 2)\n",
    "z = poly.fit_transform(xTrain)\n",
    "lr = LinearRegression(normalize=True)\n",
    "lr.fit(z, yTrain)\n",
    "lr.score(z, yTrain)"
   ]
  },
  {
   "cell_type": "code",
   "execution_count": 188,
   "metadata": {},
   "outputs": [
    {
     "name": "stdout",
     "output_type": "stream",
     "text": [
      "precision sample:  -5283.84172093\n"
     ]
    }
   ],
   "source": [
    "zTest = poly.fit_transform(xTest)\n",
    "predictionsSamplePlynomial = lr.predict(zTest)\n",
    "print \"precision sample: \", lr.score(zTest, yTest)"
   ]
  },
  {
   "cell_type": "code",
   "execution_count": 189,
   "metadata": {},
   "outputs": [],
   "source": [
    "DataTransformed = poly.fit_transform(data)\n",
    "predictions = lr.predict(DataTransformed)\n",
    "final = saveFinalDF(predictions, ids)"
   ]
  },
  {
   "cell_type": "code",
   "execution_count": 190,
   "metadata": {},
   "outputs": [
    {
     "data": {
      "text/html": [
       "<div>\n",
       "<style>\n",
       "    .dataframe thead tr:only-child th {\n",
       "        text-align: right;\n",
       "    }\n",
       "\n",
       "    .dataframe thead th {\n",
       "        text-align: left;\n",
       "    }\n",
       "\n",
       "    .dataframe tbody tr th {\n",
       "        vertical-align: top;\n",
       "    }\n",
       "</style>\n",
       "<table border=\"1\" class=\"dataframe\">\n",
       "  <thead>\n",
       "    <tr style=\"text-align: right;\">\n",
       "      <th></th>\n",
       "      <th>price_usd</th>\n",
       "    </tr>\n",
       "    <tr>\n",
       "      <th>id</th>\n",
       "      <th></th>\n",
       "    </tr>\n",
       "  </thead>\n",
       "  <tbody>\n",
       "    <tr>\n",
       "      <th>3632</th>\n",
       "      <td>-1.309150e+22</td>\n",
       "    </tr>\n",
       "    <tr>\n",
       "      <th>3633</th>\n",
       "      <td>-2.594522e+23</td>\n",
       "    </tr>\n",
       "    <tr>\n",
       "      <th>2263404</th>\n",
       "      <td>-1.635580e+22</td>\n",
       "    </tr>\n",
       "    <tr>\n",
       "      <th>2263405</th>\n",
       "      <td>-1.460626e+22</td>\n",
       "    </tr>\n",
       "    <tr>\n",
       "      <th>2263406</th>\n",
       "      <td>-1.452099e+22</td>\n",
       "    </tr>\n",
       "  </tbody>\n",
       "</table>\n",
       "</div>"
      ],
      "text/plain": [
       "            price_usd\n",
       "id                   \n",
       "3632    -1.309150e+22\n",
       "3633    -2.594522e+23\n",
       "2263404 -1.635580e+22\n",
       "2263405 -1.460626e+22\n",
       "2263406 -1.452099e+22"
      ]
     },
     "execution_count": 190,
     "metadata": {},
     "output_type": "execute_result"
    }
   ],
   "source": [
    "final.head()"
   ]
  },
  {
   "cell_type": "markdown",
   "metadata": {},
   "source": [
    "# Decicion Tree"
   ]
  },
  {
   "cell_type": "code",
   "execution_count": 191,
   "metadata": {},
   "outputs": [],
   "source": [
    "from sklearn.model_selection import cross_val_score\n",
    "from sklearn.model_selection import GridSearchCV\n",
    "from sklearn.tree import DecisionTreeRegressor"
   ]
  },
  {
   "cell_type": "code",
   "execution_count": 202,
   "metadata": {},
   "outputs": [],
   "source": [
    "columns = list(predictDf.columns.values)\n",
    "maxFeatures = len(columns)\n",
    "params = {\n",
    "    'max_depth': [i for i in range(5, 100)],\n",
    "    #'criterion': [\"mse\", \"friedman_mse\", \"mae\"]\n",
    "    'max_features': [i for i in range(1, maxFeatures)]\n",
    "}\n",
    "gs = GridSearchCV(DecisionTreeRegressor(), params, cv=3, n_jobs=1, verbose=1, scoring=None, refit=True)"
   ]
  },
  {
   "cell_type": "code",
   "execution_count": null,
   "metadata": {},
   "outputs": [
    {
     "name": "stdout",
     "output_type": "stream",
     "text": [
      "Fitting 3 folds for each of 1995 candidates, totalling 5985 fits\n"
     ]
    }
   ],
   "source": [
    "gs.fit(xTrain, yTrain)\n",
    "yTestPrediction = gs.predict(xTest)\n",
    "print \"precision test: \", gs.score(xTest, yTest)\n",
    "print \"best params: \", gs.best_params_\n",
    "print \"best score: \", gs.best_score_ \n",
    "print \"best estimator: \", gs.best_estimator_"
   ]
  },
  {
   "cell_type": "code",
   "execution_count": 199,
   "metadata": {},
   "outputs": [
    {
     "name": "stdout",
     "output_type": "stream",
     "text": [
      "mean_squared_error:  29804354126.8\n",
      "digitsQuantity:  11\n"
     ]
    }
   ],
   "source": [
    "printScore(yTestPrediction, yTest)"
   ]
  },
  {
   "cell_type": "code",
   "execution_count": 200,
   "metadata": {},
   "outputs": [],
   "source": [
    "predictionDTR = gs.predict(data)\n",
    "final = saveFinalDF(predictionDTR, ids)"
   ]
  },
  {
   "cell_type": "code",
   "execution_count": 201,
   "metadata": {},
   "outputs": [
    {
     "data": {
      "text/html": [
       "<div>\n",
       "<style>\n",
       "    .dataframe thead tr:only-child th {\n",
       "        text-align: right;\n",
       "    }\n",
       "\n",
       "    .dataframe thead th {\n",
       "        text-align: left;\n",
       "    }\n",
       "\n",
       "    .dataframe tbody tr th {\n",
       "        vertical-align: top;\n",
       "    }\n",
       "</style>\n",
       "<table border=\"1\" class=\"dataframe\">\n",
       "  <thead>\n",
       "    <tr style=\"text-align: right;\">\n",
       "      <th></th>\n",
       "      <th>price_usd</th>\n",
       "    </tr>\n",
       "    <tr>\n",
       "      <th>id</th>\n",
       "      <th></th>\n",
       "    </tr>\n",
       "  </thead>\n",
       "  <tbody>\n",
       "    <tr>\n",
       "      <th>3632</th>\n",
       "      <td>76000.0</td>\n",
       "    </tr>\n",
       "    <tr>\n",
       "      <th>3633</th>\n",
       "      <td>76000.0</td>\n",
       "    </tr>\n",
       "    <tr>\n",
       "      <th>2263404</th>\n",
       "      <td>76000.0</td>\n",
       "    </tr>\n",
       "    <tr>\n",
       "      <th>2263405</th>\n",
       "      <td>76000.0</td>\n",
       "    </tr>\n",
       "    <tr>\n",
       "      <th>2263406</th>\n",
       "      <td>76000.0</td>\n",
       "    </tr>\n",
       "    <tr>\n",
       "      <th>2263407</th>\n",
       "      <td>76000.0</td>\n",
       "    </tr>\n",
       "    <tr>\n",
       "      <th>2263408</th>\n",
       "      <td>76000.0</td>\n",
       "    </tr>\n",
       "    <tr>\n",
       "      <th>2263409</th>\n",
       "      <td>76000.0</td>\n",
       "    </tr>\n",
       "    <tr>\n",
       "      <th>2263410</th>\n",
       "      <td>76000.0</td>\n",
       "    </tr>\n",
       "    <tr>\n",
       "      <th>2263411</th>\n",
       "      <td>76000.0</td>\n",
       "    </tr>\n",
       "    <tr>\n",
       "      <th>2263412</th>\n",
       "      <td>76000.0</td>\n",
       "    </tr>\n",
       "    <tr>\n",
       "      <th>2263413</th>\n",
       "      <td>76000.0</td>\n",
       "    </tr>\n",
       "    <tr>\n",
       "      <th>2263415</th>\n",
       "      <td>76000.0</td>\n",
       "    </tr>\n",
       "    <tr>\n",
       "      <th>2263416</th>\n",
       "      <td>76000.0</td>\n",
       "    </tr>\n",
       "    <tr>\n",
       "      <th>2263417</th>\n",
       "      <td>76000.0</td>\n",
       "    </tr>\n",
       "    <tr>\n",
       "      <th>2263418</th>\n",
       "      <td>76000.0</td>\n",
       "    </tr>\n",
       "    <tr>\n",
       "      <th>2263419</th>\n",
       "      <td>76000.0</td>\n",
       "    </tr>\n",
       "    <tr>\n",
       "      <th>2263420</th>\n",
       "      <td>76000.0</td>\n",
       "    </tr>\n",
       "    <tr>\n",
       "      <th>2263421</th>\n",
       "      <td>76000.0</td>\n",
       "    </tr>\n",
       "    <tr>\n",
       "      <th>2263422</th>\n",
       "      <td>76000.0</td>\n",
       "    </tr>\n",
       "    <tr>\n",
       "      <th>2263423</th>\n",
       "      <td>76000.0</td>\n",
       "    </tr>\n",
       "    <tr>\n",
       "      <th>2263424</th>\n",
       "      <td>76000.0</td>\n",
       "    </tr>\n",
       "    <tr>\n",
       "      <th>2263425</th>\n",
       "      <td>76000.0</td>\n",
       "    </tr>\n",
       "    <tr>\n",
       "      <th>2263426</th>\n",
       "      <td>76000.0</td>\n",
       "    </tr>\n",
       "    <tr>\n",
       "      <th>2263427</th>\n",
       "      <td>76000.0</td>\n",
       "    </tr>\n",
       "    <tr>\n",
       "      <th>2263428</th>\n",
       "      <td>76000.0</td>\n",
       "    </tr>\n",
       "    <tr>\n",
       "      <th>2263429</th>\n",
       "      <td>76000.0</td>\n",
       "    </tr>\n",
       "    <tr>\n",
       "      <th>2263430</th>\n",
       "      <td>76000.0</td>\n",
       "    </tr>\n",
       "    <tr>\n",
       "      <th>2263431</th>\n",
       "      <td>76000.0</td>\n",
       "    </tr>\n",
       "    <tr>\n",
       "      <th>2263432</th>\n",
       "      <td>76000.0</td>\n",
       "    </tr>\n",
       "    <tr>\n",
       "      <th>...</th>\n",
       "      <td>...</td>\n",
       "    </tr>\n",
       "    <tr>\n",
       "      <th>2245037</th>\n",
       "      <td>76000.0</td>\n",
       "    </tr>\n",
       "    <tr>\n",
       "      <th>2245039</th>\n",
       "      <td>76000.0</td>\n",
       "    </tr>\n",
       "    <tr>\n",
       "      <th>2245041</th>\n",
       "      <td>76000.0</td>\n",
       "    </tr>\n",
       "    <tr>\n",
       "      <th>2245042</th>\n",
       "      <td>76000.0</td>\n",
       "    </tr>\n",
       "    <tr>\n",
       "      <th>2245071</th>\n",
       "      <td>76000.0</td>\n",
       "    </tr>\n",
       "    <tr>\n",
       "      <th>2245093</th>\n",
       "      <td>76000.0</td>\n",
       "    </tr>\n",
       "    <tr>\n",
       "      <th>2245123</th>\n",
       "      <td>76000.0</td>\n",
       "    </tr>\n",
       "    <tr>\n",
       "      <th>2245124</th>\n",
       "      <td>76000.0</td>\n",
       "    </tr>\n",
       "    <tr>\n",
       "      <th>2245167</th>\n",
       "      <td>76000.0</td>\n",
       "    </tr>\n",
       "    <tr>\n",
       "      <th>2245170</th>\n",
       "      <td>76000.0</td>\n",
       "    </tr>\n",
       "    <tr>\n",
       "      <th>2245172</th>\n",
       "      <td>76000.0</td>\n",
       "    </tr>\n",
       "    <tr>\n",
       "      <th>2245180</th>\n",
       "      <td>76000.0</td>\n",
       "    </tr>\n",
       "    <tr>\n",
       "      <th>2245185</th>\n",
       "      <td>76000.0</td>\n",
       "    </tr>\n",
       "    <tr>\n",
       "      <th>2245186</th>\n",
       "      <td>76000.0</td>\n",
       "    </tr>\n",
       "    <tr>\n",
       "      <th>2245187</th>\n",
       "      <td>76000.0</td>\n",
       "    </tr>\n",
       "    <tr>\n",
       "      <th>2245203</th>\n",
       "      <td>76000.0</td>\n",
       "    </tr>\n",
       "    <tr>\n",
       "      <th>2245221</th>\n",
       "      <td>76000.0</td>\n",
       "    </tr>\n",
       "    <tr>\n",
       "      <th>2245222</th>\n",
       "      <td>76000.0</td>\n",
       "    </tr>\n",
       "    <tr>\n",
       "      <th>2245228</th>\n",
       "      <td>76000.0</td>\n",
       "    </tr>\n",
       "    <tr>\n",
       "      <th>2245266</th>\n",
       "      <td>76000.0</td>\n",
       "    </tr>\n",
       "    <tr>\n",
       "      <th>2245331</th>\n",
       "      <td>76000.0</td>\n",
       "    </tr>\n",
       "    <tr>\n",
       "      <th>2245345</th>\n",
       "      <td>76000.0</td>\n",
       "    </tr>\n",
       "    <tr>\n",
       "      <th>2245921</th>\n",
       "      <td>76000.0</td>\n",
       "    </tr>\n",
       "    <tr>\n",
       "      <th>2245929</th>\n",
       "      <td>76000.0</td>\n",
       "    </tr>\n",
       "    <tr>\n",
       "      <th>2245930</th>\n",
       "      <td>76000.0</td>\n",
       "    </tr>\n",
       "    <tr>\n",
       "      <th>2245938</th>\n",
       "      <td>76000.0</td>\n",
       "    </tr>\n",
       "    <tr>\n",
       "      <th>2245978</th>\n",
       "      <td>76000.0</td>\n",
       "    </tr>\n",
       "    <tr>\n",
       "      <th>2246083</th>\n",
       "      <td>76000.0</td>\n",
       "    </tr>\n",
       "    <tr>\n",
       "      <th>2246089</th>\n",
       "      <td>76000.0</td>\n",
       "    </tr>\n",
       "    <tr>\n",
       "      <th>2246127</th>\n",
       "      <td>76000.0</td>\n",
       "    </tr>\n",
       "  </tbody>\n",
       "</table>\n",
       "<p>14166 rows × 1 columns</p>\n",
       "</div>"
      ],
      "text/plain": [
       "         price_usd\n",
       "id                \n",
       "3632       76000.0\n",
       "3633       76000.0\n",
       "2263404    76000.0\n",
       "2263405    76000.0\n",
       "2263406    76000.0\n",
       "2263407    76000.0\n",
       "2263408    76000.0\n",
       "2263409    76000.0\n",
       "2263410    76000.0\n",
       "2263411    76000.0\n",
       "2263412    76000.0\n",
       "2263413    76000.0\n",
       "2263415    76000.0\n",
       "2263416    76000.0\n",
       "2263417    76000.0\n",
       "2263418    76000.0\n",
       "2263419    76000.0\n",
       "2263420    76000.0\n",
       "2263421    76000.0\n",
       "2263422    76000.0\n",
       "2263423    76000.0\n",
       "2263424    76000.0\n",
       "2263425    76000.0\n",
       "2263426    76000.0\n",
       "2263427    76000.0\n",
       "2263428    76000.0\n",
       "2263429    76000.0\n",
       "2263430    76000.0\n",
       "2263431    76000.0\n",
       "2263432    76000.0\n",
       "...            ...\n",
       "2245037    76000.0\n",
       "2245039    76000.0\n",
       "2245041    76000.0\n",
       "2245042    76000.0\n",
       "2245071    76000.0\n",
       "2245093    76000.0\n",
       "2245123    76000.0\n",
       "2245124    76000.0\n",
       "2245167    76000.0\n",
       "2245170    76000.0\n",
       "2245172    76000.0\n",
       "2245180    76000.0\n",
       "2245185    76000.0\n",
       "2245186    76000.0\n",
       "2245187    76000.0\n",
       "2245203    76000.0\n",
       "2245221    76000.0\n",
       "2245222    76000.0\n",
       "2245228    76000.0\n",
       "2245266    76000.0\n",
       "2245331    76000.0\n",
       "2245345    76000.0\n",
       "2245921    76000.0\n",
       "2245929    76000.0\n",
       "2245930    76000.0\n",
       "2245938    76000.0\n",
       "2245978    76000.0\n",
       "2246083    76000.0\n",
       "2246089    76000.0\n",
       "2246127    76000.0\n",
       "\n",
       "[14166 rows x 1 columns]"
      ]
     },
     "execution_count": 201,
     "metadata": {},
     "output_type": "execute_result"
    }
   ],
   "source": [
    "final\n",
    "#3632: $410000"
   ]
  },
  {
   "cell_type": "markdown",
   "metadata": {},
   "source": [
    "# Random Forest Regressor"
   ]
  },
  {
   "cell_type": "code",
   "execution_count": 78,
   "metadata": {},
   "outputs": [],
   "source": [
    "from sklearn.ensemble import RandomForestRegressor\n",
    "from sklearn.grid_search import GridSearchCV"
   ]
  },
  {
   "cell_type": "code",
   "execution_count": 79,
   "metadata": {},
   "outputs": [],
   "source": [
    "params = {\n",
    "    'max_depth': [4,6],\n",
    "    'min_samples_leaf': [3, 5, 9],\n",
    "    'max_features': [1.0, 0.3, 0.1]\n",
    "}\n",
    "gs = GridSearchCV(RandomForestRegressor(), params, cv=3, n_jobs=1, verbose=1, scoring=None, refit=True)"
   ]
  },
  {
   "cell_type": "code",
   "execution_count": 80,
   "metadata": {},
   "outputs": [
    {
     "name": "stdout",
     "output_type": "stream",
     "text": [
      "Fitting 3 folds for each of 18 candidates, totalling 54 fits\n"
     ]
    },
    {
     "name": "stderr",
     "output_type": "stream",
     "text": [
      "[Parallel(n_jobs=1)]: Done  54 out of  54 | elapsed:   57.6s finished\n"
     ]
    },
    {
     "name": "stdout",
     "output_type": "stream",
     "text": [
      "score train:  0.730790922777\n"
     ]
    }
   ],
   "source": [
    "gs.fit(xTrain, yTrain)\n",
    "print \"score train: \", gs.score(xTrain, yTrain)"
   ]
  },
  {
   "cell_type": "code",
   "execution_count": 81,
   "metadata": {},
   "outputs": [
    {
     "name": "stdout",
     "output_type": "stream",
     "text": [
      "score test:  0.634321865073\n"
     ]
    }
   ],
   "source": [
    "yTestPredictionRF = gs.predict(xTest)\n",
    "print \"score test: \", gs.score(xTest, yTest)"
   ]
  },
  {
   "cell_type": "code",
   "execution_count": 82,
   "metadata": {},
   "outputs": [
    {
     "name": "stdout",
     "output_type": "stream",
     "text": [
      "mean_squared_error:  57053561615.0\n",
      "digitsQuantity:  11\n"
     ]
    }
   ],
   "source": [
    "printScore(yTestPredictionRF, yTest)"
   ]
  },
  {
   "cell_type": "code",
   "execution_count": 83,
   "metadata": {},
   "outputs": [],
   "source": [
    "RFPrediction = gs.predict(data)\n",
    "final = saveFinalDF(RFPrediction, ids)"
   ]
  },
  {
   "cell_type": "code",
   "execution_count": 84,
   "metadata": {},
   "outputs": [
    {
     "data": {
      "text/html": [
       "<div>\n",
       "<style>\n",
       "    .dataframe thead tr:only-child th {\n",
       "        text-align: right;\n",
       "    }\n",
       "\n",
       "    .dataframe thead th {\n",
       "        text-align: left;\n",
       "    }\n",
       "\n",
       "    .dataframe tbody tr th {\n",
       "        vertical-align: top;\n",
       "    }\n",
       "</style>\n",
       "<table border=\"1\" class=\"dataframe\">\n",
       "  <thead>\n",
       "    <tr style=\"text-align: right;\">\n",
       "      <th></th>\n",
       "      <th>price_usd</th>\n",
       "    </tr>\n",
       "    <tr>\n",
       "      <th>id</th>\n",
       "      <th></th>\n",
       "    </tr>\n",
       "  </thead>\n",
       "  <tbody>\n",
       "    <tr>\n",
       "      <th>3632</th>\n",
       "      <td>2.748631e+06</td>\n",
       "    </tr>\n",
       "    <tr>\n",
       "      <th>3633</th>\n",
       "      <td>2.326602e+06</td>\n",
       "    </tr>\n",
       "    <tr>\n",
       "      <th>2263404</th>\n",
       "      <td>1.693606e+06</td>\n",
       "    </tr>\n",
       "    <tr>\n",
       "      <th>2263405</th>\n",
       "      <td>2.748631e+06</td>\n",
       "    </tr>\n",
       "    <tr>\n",
       "      <th>2263406</th>\n",
       "      <td>2.748631e+06</td>\n",
       "    </tr>\n",
       "  </tbody>\n",
       "</table>\n",
       "</div>"
      ],
      "text/plain": [
       "            price_usd\n",
       "id                   \n",
       "3632     2.748631e+06\n",
       "3633     2.326602e+06\n",
       "2263404  1.693606e+06\n",
       "2263405  2.748631e+06\n",
       "2263406  2.748631e+06"
      ]
     },
     "execution_count": 84,
     "metadata": {},
     "output_type": "execute_result"
    }
   ],
   "source": [
    "final.head()"
   ]
  },
  {
   "cell_type": "code",
   "execution_count": null,
   "metadata": {},
   "outputs": [],
   "source": []
  }
 ],
 "metadata": {
  "kernelspec": {
   "display_name": "Python 2",
   "language": "python",
   "name": "python2"
  },
  "language_info": {
   "codemirror_mode": {
    "name": "ipython",
    "version": 2
   },
   "file_extension": ".py",
   "mimetype": "text/x-python",
   "name": "python",
   "nbconvert_exporter": "python",
   "pygments_lexer": "ipython2",
   "version": "2.7.12"
  }
 },
 "nbformat": 4,
 "nbformat_minor": 2
}
