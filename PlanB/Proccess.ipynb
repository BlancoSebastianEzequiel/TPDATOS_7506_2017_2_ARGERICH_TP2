{
 "cells": [
  {
   "cell_type": "code",
   "execution_count": 68,
   "metadata": {},
   "outputs": [],
   "source": [
    "import pandas as pd\n",
    "import numpy as np\n",
    "from os import listdir\n",
    "from sklearn import datasets\n",
    "from sklearn.linear_model import LinearRegression\n",
    "%matplotlib inline\n",
    "import matplotlib.pyplot as plt\n",
    "from sklearn.cross_validation import train_test_split"
   ]
  },
  {
   "cell_type": "code",
   "execution_count": 69,
   "metadata": {},
   "outputs": [],
   "source": [
    "#---------------------------------------------------------\n",
    "# DELETE TRASH COLUMNS\n",
    "#---------------------------------------------------------\n",
    "def deleteTrashColumns(df):\n",
    "    columns = list(df.columns.values)\n",
    "    for column in columns:\n",
    "        if \"unnamed\" in column.lower():\n",
    "            df.drop(column, axis = 1, inplace = True) \n",
    "    return df\n",
    "#---------------------------------------------------------\n",
    "# PROCESS TRAIN SET\n",
    "#---------------------------------------------------------\n",
    "def ProcessTrainSet(df, withPrice):\n",
    "    df.dropna(axis=0, how='any', subset=list(df.columns.values), inplace=True)\n",
    "    \n",
    "    target = df['price_aprox_usd'].tolist()\n",
    "    if withPrice:\n",
    "        df.drop('price_aprox_usd', axis = 1, inplace = True)\n",
    "    \n",
    "    columns = list(df.columns.values)\n",
    "    data = list(df.values)\n",
    "    return data, target\n",
    "#---------------------------------------------------------\n",
    "# GET DATA AS LIST\n",
    "#---------------------------------------------------------\n",
    "def GetDataAsList(df):\n",
    "    columns = list(df.columns.values)\n",
    "    data = list(df.values)\n",
    "    return data\n",
    "#---------------------------------------------------------\n",
    "# SAVE FINAL DF\n",
    "#---------------------------------------------------------\n",
    "def saveFinalDF(predictions, ids):\n",
    "    aData = {'price_usd': predictions}\n",
    "    final = pd.DataFrame(data = aData, index=ids)\n",
    "    final.to_csv(\"properati_dataset_sample_submision.csv\", \\\n",
    "    index = True, header = True, sep = ',', encoding = 'utf-8-sig')\n",
    "    return final"
   ]
  },
  {
   "cell_type": "markdown",
   "metadata": {},
   "source": [
    "# Set de entrenamiento"
   ]
  },
  {
   "cell_type": "code",
   "execution_count": 70,
   "metadata": {},
   "outputs": [],
   "source": [
    "df = pd.read_csv(\"dataTrain.csv\", low_memory = False)\n",
    "df = deleteTrashColumns(df)\n",
    "dataTrain, targetTrain = ProcessTrainSet(df, True)"
   ]
  },
  {
   "cell_type": "code",
   "execution_count": 71,
   "metadata": {},
   "outputs": [
    {
     "name": "stdout",
     "output_type": "stream",
     "text": [
      "data size:  770550\n",
      "target size:  770550\n",
      "columns size:  12\n"
     ]
    }
   ],
   "source": [
    "columns = list(df.columns.values)\n",
    "print \"data size: \", len(dataTrain)\n",
    "print \"target size: \", len(targetTrain)\n",
    "print \"columns size: \", len(columns)"
   ]
  },
  {
   "cell_type": "markdown",
   "metadata": {},
   "source": [
    "# Set de test"
   ]
  },
  {
   "cell_type": "code",
   "execution_count": 72,
   "metadata": {},
   "outputs": [],
   "source": [
    "predictDf = pd.read_csv(\"dataTest.csv\", low_memory = False)\n",
    "ids = predictDf['id']\n",
    "predictDf.drop('id', axis = 1, inplace = True)\n",
    "predictDf = deleteTrashColumns(predictDf)\n",
    "data = GetDataAsList(predictDf)"
   ]
  },
  {
   "cell_type": "code",
   "execution_count": 73,
   "metadata": {},
   "outputs": [
    {
     "name": "stdout",
     "output_type": "stream",
     "text": [
      "data size:  14166\n",
      "df size:  14166\n",
      "columns size:  12\n"
     ]
    }
   ],
   "source": [
    "columns = list(predictDf.columns.values)\n",
    "print \"data size: \", len(data)\n",
    "print \"df size: \", len(predictDf.index)\n",
    "print \"columns size: \", len(columns)\n",
    "#row should be 14166"
   ]
  },
  {
   "cell_type": "markdown",
   "metadata": {},
   "source": [
    "# Split"
   ]
  },
  {
   "cell_type": "code",
   "execution_count": 74,
   "metadata": {},
   "outputs": [],
   "source": [
    "xTrain, xTest, yTrain, yTest = train_test_split(dataTrain, targetTrain, test_size=0.5, random_state=0)"
   ]
  },
  {
   "cell_type": "markdown",
   "metadata": {},
   "source": [
    "# Prediccion "
   ]
  },
  {
   "cell_type": "markdown",
   "metadata": {},
   "source": [
    "# Linear Regression"
   ]
  },
  {
   "cell_type": "code",
   "execution_count": null,
   "metadata": {},
   "outputs": [],
   "source": [
    "lr = LinearRegression(normalize = True)\n",
    "lr.fit(xTrain, yTrain)\n",
    "print \"train score: \", lr.score(xTrain, yTrain)\n",
    "yPredictionTest = lr.prediction(xTest)"
   ]
  },
  {
   "cell_type": "code",
   "execution_count": null,
   "metadata": {},
   "outputs": [],
   "source": [
    "err = mean_squared_error(yPredictionTest, yTest)\n",
    "print \"mean_squared_error: \", err\n",
    "digitsQuantity = len(str(err).split('.')[0])\n",
    "print \"digitsQuantity: \", digitsQuantity"
   ]
  },
  {
   "cell_type": "code",
   "execution_count": null,
   "metadata": {},
   "outputs": [],
   "source": [
    "lrPrediciton = lr.predict(data)\n",
    "final = saveFinalDF(lrPrediciton, ids)"
   ]
  },
  {
   "cell_type": "code",
   "execution_count": null,
   "metadata": {},
   "outputs": [],
   "source": []
  },
  {
   "cell_type": "markdown",
   "metadata": {},
   "source": [
    "# Transformacion no lineal a lineal"
   ]
  },
  {
   "cell_type": "markdown",
   "metadata": {},
   "source": [
    "#  (Este metodo da precios demasiado altos y es peor que el lineal hecho en el paso anterior)"
   ]
  },
  {
   "cell_type": "markdown",
   "metadata": {},
   "source": [
    "Si tomamos como ejemplo una función f que toma la forma :  f(x) = a + bx + cx²\n",
    "\n",
    "La función f es no lineal en función de x pero si es lineal en función de los parámetros desconocidos a, b, y c. O visto de otra manera: podemos sustituir nuestras variables x por un array z tal que: z = [1, x, x²]. Con el que podríamos reescribir nuestra función f como f(z) = a z0 + bz1 + c*z2\n",
    "\n",
    "Scikit-learn tiene un objeto PolynomialFeatures que nos va a servir para convertir nuestra variable x en un array z del tipo z = [1, x, x2, …, n^n], que es lo que nos interesa.\n",
    "\n",
    "El resultado de esa transformación se la pasamos a nuestro modelo Ridge. Para facilitar la tarea en este tipo de casos —donde se realizan varios pasos que van desde el pre-tratamiento de los datos hasta un posible post-tratamiento pasando por el entrenamiento—, podemos hacer uso de las Pipeline que nos permiten encadenar multiples estimadores en uno. Esto es especialmente útil cuando hay secuencia de pasos predefinidos en el procesado de datos con, por ejemplo, selección de atributos, normalización y clasificación."
   ]
  },
  {
   "cell_type": "code",
   "execution_count": 1,
   "metadata": {},
   "outputs": [],
   "source": [
    "from sklearn.linear_model import Ridge\n",
    "from sklearn.preprocessing import PolynomialFeatures\n",
    "from sklearn.linear_model import LinearRegression"
   ]
  },
  {
   "cell_type": "code",
   "execution_count": null,
   "metadata": {},
   "outputs": [],
   "source": [
    "poly = PolynomialFeatures(degree = 2)\n",
    "z = poly.fit_transform(xTrain)\n",
    "lr = LinearRegression(normalize=True)\n",
    "lr.fit(z, yTrain)\n",
    "lr.score(z, yTrain)"
   ]
  },
  {
   "cell_type": "code",
   "execution_count": null,
   "metadata": {},
   "outputs": [],
   "source": [
    "zTest = poly.fit_transform(xTest)\n",
    "predictionsSamplePlynomial = lr.predict(zTest)\n",
    "print \"precision sample: \", lr.score(zTest, yTest)"
   ]
  },
  {
   "cell_type": "code",
   "execution_count": null,
   "metadata": {},
   "outputs": [],
   "source": [
    "DataTransformed = poly.fit_transform(data)\n",
    "predictions = lr.predict(DataTransformed)\n",
    "final = saveFinalDF(predictions, ids)"
   ]
  },
  {
   "cell_type": "code",
   "execution_count": null,
   "metadata": {},
   "outputs": [],
   "source": [
    "final.head()"
   ]
  },
  {
   "cell_type": "markdown",
   "metadata": {},
   "source": [
    "# Decicion Tree"
   ]
  },
  {
   "cell_type": "code",
   "execution_count": 75,
   "metadata": {},
   "outputs": [],
   "source": [
    "from sklearn.model_selection import cross_val_score\n",
    "from sklearn.grid_search import GridSearchCV\n",
    "from sklearn.metrics import mean_squared_error\n",
    "from sklearn.tree import DecisionTreeRegressor"
   ]
  },
  {
   "cell_type": "code",
   "execution_count": 84,
   "metadata": {},
   "outputs": [],
   "source": [
    "params = {\n",
    "    'max_depth': [i for i in range(50, 100)],\n",
    "    #'criterion': [\"mse\", \"friedman_mse\", \"mae\"],\n",
    "}\n",
    "gs = GridSearchCV(DecisionTreeRegressor(), params, cv=3, n_jobs=1, verbose=1, scoring=None, refit=True)"
   ]
  },
  {
   "cell_type": "code",
   "execution_count": 77,
   "metadata": {},
   "outputs": [
    {
     "name": "stdout",
     "output_type": "stream",
     "text": [
      "Fitting 3 folds for each of 50 candidates, totalling 150 fits\n"
     ]
    },
    {
     "name": "stderr",
     "output_type": "stream",
     "text": [
      "[Parallel(n_jobs=1)]: Done 150 out of 150 | elapsed: 10.6min finished\n"
     ]
    },
    {
     "name": "stdout",
     "output_type": "stream",
     "text": [
      "precision test:  0.763251522169\n"
     ]
    }
   ],
   "source": [
    "gs.fit(xTrain, yTrain)\n",
    "yTestPrediction = gs.predict(xTest)\n",
    "print \"precision test: \", gs.score(xTest, yTest)"
   ]
  },
  {
   "cell_type": "code",
   "execution_count": 78,
   "metadata": {},
   "outputs": [
    {
     "name": "stdout",
     "output_type": "stream",
     "text": [
      "mean_squared_error:  31339148103.2\n",
      "digitsQuantity:  11\n"
     ]
    }
   ],
   "source": [
    "err = mean_squared_error(yTestPrediction, yTest)\n",
    "print \"mean_squared_error: \", err\n",
    "digitsQuantity = len(str(err).split('.')[0])\n",
    "print \"digitsQuantity: \", digitsQuantity"
   ]
  },
  {
   "cell_type": "code",
   "execution_count": 79,
   "metadata": {},
   "outputs": [],
   "source": [
    "predictionDTR = gs.predict(data)\n",
    "final = saveFinalDF(predictionDTR, ids)"
   ]
  },
  {
   "cell_type": "code",
   "execution_count": 80,
   "metadata": {},
   "outputs": [
    {
     "data": {
      "text/html": [
       "<div>\n",
       "<style>\n",
       "    .dataframe thead tr:only-child th {\n",
       "        text-align: right;\n",
       "    }\n",
       "\n",
       "    .dataframe thead th {\n",
       "        text-align: left;\n",
       "    }\n",
       "\n",
       "    .dataframe tbody tr th {\n",
       "        vertical-align: top;\n",
       "    }\n",
       "</style>\n",
       "<table border=\"1\" class=\"dataframe\">\n",
       "  <thead>\n",
       "    <tr style=\"text-align: right;\">\n",
       "      <th></th>\n",
       "      <th>price_usd</th>\n",
       "    </tr>\n",
       "    <tr>\n",
       "      <th>id</th>\n",
       "      <th></th>\n",
       "    </tr>\n",
       "  </thead>\n",
       "  <tbody>\n",
       "    <tr>\n",
       "      <th>3632</th>\n",
       "      <td>1780000.0</td>\n",
       "    </tr>\n",
       "    <tr>\n",
       "      <th>3633</th>\n",
       "      <td>3200000.0</td>\n",
       "    </tr>\n",
       "    <tr>\n",
       "      <th>2263404</th>\n",
       "      <td>1150000.0</td>\n",
       "    </tr>\n",
       "    <tr>\n",
       "      <th>2263405</th>\n",
       "      <td>1780000.0</td>\n",
       "    </tr>\n",
       "    <tr>\n",
       "      <th>2263406</th>\n",
       "      <td>1780000.0</td>\n",
       "    </tr>\n",
       "    <tr>\n",
       "      <th>2263407</th>\n",
       "      <td>1780000.0</td>\n",
       "    </tr>\n",
       "    <tr>\n",
       "      <th>2263408</th>\n",
       "      <td>1780000.0</td>\n",
       "    </tr>\n",
       "    <tr>\n",
       "      <th>2263409</th>\n",
       "      <td>1780000.0</td>\n",
       "    </tr>\n",
       "    <tr>\n",
       "      <th>2263410</th>\n",
       "      <td>1780000.0</td>\n",
       "    </tr>\n",
       "    <tr>\n",
       "      <th>2263411</th>\n",
       "      <td>1780000.0</td>\n",
       "    </tr>\n",
       "    <tr>\n",
       "      <th>2263412</th>\n",
       "      <td>1780000.0</td>\n",
       "    </tr>\n",
       "    <tr>\n",
       "      <th>2263413</th>\n",
       "      <td>1780000.0</td>\n",
       "    </tr>\n",
       "    <tr>\n",
       "      <th>2263415</th>\n",
       "      <td>1780000.0</td>\n",
       "    </tr>\n",
       "    <tr>\n",
       "      <th>2263416</th>\n",
       "      <td>1780000.0</td>\n",
       "    </tr>\n",
       "    <tr>\n",
       "      <th>2263417</th>\n",
       "      <td>1780000.0</td>\n",
       "    </tr>\n",
       "    <tr>\n",
       "      <th>2263418</th>\n",
       "      <td>1780000.0</td>\n",
       "    </tr>\n",
       "    <tr>\n",
       "      <th>2263419</th>\n",
       "      <td>1780000.0</td>\n",
       "    </tr>\n",
       "    <tr>\n",
       "      <th>2263420</th>\n",
       "      <td>1780000.0</td>\n",
       "    </tr>\n",
       "    <tr>\n",
       "      <th>2263421</th>\n",
       "      <td>1780000.0</td>\n",
       "    </tr>\n",
       "    <tr>\n",
       "      <th>2263422</th>\n",
       "      <td>1780000.0</td>\n",
       "    </tr>\n",
       "    <tr>\n",
       "      <th>2263423</th>\n",
       "      <td>1780000.0</td>\n",
       "    </tr>\n",
       "    <tr>\n",
       "      <th>2263424</th>\n",
       "      <td>1780000.0</td>\n",
       "    </tr>\n",
       "    <tr>\n",
       "      <th>2263425</th>\n",
       "      <td>1780000.0</td>\n",
       "    </tr>\n",
       "    <tr>\n",
       "      <th>2263426</th>\n",
       "      <td>1780000.0</td>\n",
       "    </tr>\n",
       "    <tr>\n",
       "      <th>2263427</th>\n",
       "      <td>1780000.0</td>\n",
       "    </tr>\n",
       "    <tr>\n",
       "      <th>2263428</th>\n",
       "      <td>1780000.0</td>\n",
       "    </tr>\n",
       "    <tr>\n",
       "      <th>2263429</th>\n",
       "      <td>1780000.0</td>\n",
       "    </tr>\n",
       "    <tr>\n",
       "      <th>2263430</th>\n",
       "      <td>1780000.0</td>\n",
       "    </tr>\n",
       "    <tr>\n",
       "      <th>2263431</th>\n",
       "      <td>1780000.0</td>\n",
       "    </tr>\n",
       "    <tr>\n",
       "      <th>2263432</th>\n",
       "      <td>1780000.0</td>\n",
       "    </tr>\n",
       "    <tr>\n",
       "      <th>...</th>\n",
       "      <td>...</td>\n",
       "    </tr>\n",
       "    <tr>\n",
       "      <th>2245037</th>\n",
       "      <td>1780000.0</td>\n",
       "    </tr>\n",
       "    <tr>\n",
       "      <th>2245039</th>\n",
       "      <td>1780000.0</td>\n",
       "    </tr>\n",
       "    <tr>\n",
       "      <th>2245041</th>\n",
       "      <td>1780000.0</td>\n",
       "    </tr>\n",
       "    <tr>\n",
       "      <th>2245042</th>\n",
       "      <td>1780000.0</td>\n",
       "    </tr>\n",
       "    <tr>\n",
       "      <th>2245071</th>\n",
       "      <td>1780000.0</td>\n",
       "    </tr>\n",
       "    <tr>\n",
       "      <th>2245093</th>\n",
       "      <td>1780000.0</td>\n",
       "    </tr>\n",
       "    <tr>\n",
       "      <th>2245123</th>\n",
       "      <td>1780000.0</td>\n",
       "    </tr>\n",
       "    <tr>\n",
       "      <th>2245124</th>\n",
       "      <td>1780000.0</td>\n",
       "    </tr>\n",
       "    <tr>\n",
       "      <th>2245167</th>\n",
       "      <td>1780000.0</td>\n",
       "    </tr>\n",
       "    <tr>\n",
       "      <th>2245170</th>\n",
       "      <td>3200000.0</td>\n",
       "    </tr>\n",
       "    <tr>\n",
       "      <th>2245172</th>\n",
       "      <td>1780000.0</td>\n",
       "    </tr>\n",
       "    <tr>\n",
       "      <th>2245180</th>\n",
       "      <td>1780000.0</td>\n",
       "    </tr>\n",
       "    <tr>\n",
       "      <th>2245185</th>\n",
       "      <td>1150000.0</td>\n",
       "    </tr>\n",
       "    <tr>\n",
       "      <th>2245186</th>\n",
       "      <td>3200000.0</td>\n",
       "    </tr>\n",
       "    <tr>\n",
       "      <th>2245187</th>\n",
       "      <td>1230000.0</td>\n",
       "    </tr>\n",
       "    <tr>\n",
       "      <th>2245203</th>\n",
       "      <td>1780000.0</td>\n",
       "    </tr>\n",
       "    <tr>\n",
       "      <th>2245221</th>\n",
       "      <td>1780000.0</td>\n",
       "    </tr>\n",
       "    <tr>\n",
       "      <th>2245222</th>\n",
       "      <td>1780000.0</td>\n",
       "    </tr>\n",
       "    <tr>\n",
       "      <th>2245228</th>\n",
       "      <td>1780000.0</td>\n",
       "    </tr>\n",
       "    <tr>\n",
       "      <th>2245266</th>\n",
       "      <td>3200000.0</td>\n",
       "    </tr>\n",
       "    <tr>\n",
       "      <th>2245331</th>\n",
       "      <td>3200000.0</td>\n",
       "    </tr>\n",
       "    <tr>\n",
       "      <th>2245345</th>\n",
       "      <td>3200000.0</td>\n",
       "    </tr>\n",
       "    <tr>\n",
       "      <th>2245921</th>\n",
       "      <td>3200000.0</td>\n",
       "    </tr>\n",
       "    <tr>\n",
       "      <th>2245929</th>\n",
       "      <td>1150000.0</td>\n",
       "    </tr>\n",
       "    <tr>\n",
       "      <th>2245930</th>\n",
       "      <td>1150000.0</td>\n",
       "    </tr>\n",
       "    <tr>\n",
       "      <th>2245938</th>\n",
       "      <td>1780000.0</td>\n",
       "    </tr>\n",
       "    <tr>\n",
       "      <th>2245978</th>\n",
       "      <td>3200000.0</td>\n",
       "    </tr>\n",
       "    <tr>\n",
       "      <th>2246083</th>\n",
       "      <td>3200000.0</td>\n",
       "    </tr>\n",
       "    <tr>\n",
       "      <th>2246089</th>\n",
       "      <td>1780000.0</td>\n",
       "    </tr>\n",
       "    <tr>\n",
       "      <th>2246127</th>\n",
       "      <td>3200000.0</td>\n",
       "    </tr>\n",
       "  </tbody>\n",
       "</table>\n",
       "<p>14166 rows × 1 columns</p>\n",
       "</div>"
      ],
      "text/plain": [
       "         price_usd\n",
       "id                \n",
       "3632     1780000.0\n",
       "3633     3200000.0\n",
       "2263404  1150000.0\n",
       "2263405  1780000.0\n",
       "2263406  1780000.0\n",
       "2263407  1780000.0\n",
       "2263408  1780000.0\n",
       "2263409  1780000.0\n",
       "2263410  1780000.0\n",
       "2263411  1780000.0\n",
       "2263412  1780000.0\n",
       "2263413  1780000.0\n",
       "2263415  1780000.0\n",
       "2263416  1780000.0\n",
       "2263417  1780000.0\n",
       "2263418  1780000.0\n",
       "2263419  1780000.0\n",
       "2263420  1780000.0\n",
       "2263421  1780000.0\n",
       "2263422  1780000.0\n",
       "2263423  1780000.0\n",
       "2263424  1780000.0\n",
       "2263425  1780000.0\n",
       "2263426  1780000.0\n",
       "2263427  1780000.0\n",
       "2263428  1780000.0\n",
       "2263429  1780000.0\n",
       "2263430  1780000.0\n",
       "2263431  1780000.0\n",
       "2263432  1780000.0\n",
       "...            ...\n",
       "2245037  1780000.0\n",
       "2245039  1780000.0\n",
       "2245041  1780000.0\n",
       "2245042  1780000.0\n",
       "2245071  1780000.0\n",
       "2245093  1780000.0\n",
       "2245123  1780000.0\n",
       "2245124  1780000.0\n",
       "2245167  1780000.0\n",
       "2245170  3200000.0\n",
       "2245172  1780000.0\n",
       "2245180  1780000.0\n",
       "2245185  1150000.0\n",
       "2245186  3200000.0\n",
       "2245187  1230000.0\n",
       "2245203  1780000.0\n",
       "2245221  1780000.0\n",
       "2245222  1780000.0\n",
       "2245228  1780000.0\n",
       "2245266  3200000.0\n",
       "2245331  3200000.0\n",
       "2245345  3200000.0\n",
       "2245921  3200000.0\n",
       "2245929  1150000.0\n",
       "2245930  1150000.0\n",
       "2245938  1780000.0\n",
       "2245978  3200000.0\n",
       "2246083  3200000.0\n",
       "2246089  1780000.0\n",
       "2246127  3200000.0\n",
       "\n",
       "[14166 rows x 1 columns]"
      ]
     },
     "execution_count": 80,
     "metadata": {},
     "output_type": "execute_result"
    }
   ],
   "source": [
    "final\n",
    "# 3632: $410000"
   ]
  },
  {
   "cell_type": "code",
   "execution_count": null,
   "metadata": {},
   "outputs": [],
   "source": []
  }
 ],
 "metadata": {
  "kernelspec": {
   "display_name": "Python 2",
   "language": "python",
   "name": "python2"
  },
  "language_info": {
   "codemirror_mode": {
    "name": "ipython",
    "version": 2
   },
   "file_extension": ".py",
   "mimetype": "text/x-python",
   "name": "python",
   "nbconvert_exporter": "python",
   "pygments_lexer": "ipython2",
   "version": "2.7.12"
  }
 },
 "nbformat": 4,
 "nbformat_minor": 2
}
