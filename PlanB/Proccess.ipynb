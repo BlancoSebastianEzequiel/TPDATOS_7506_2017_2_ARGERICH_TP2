{
 "cells": [
  {
   "cell_type": "code",
   "execution_count": 1,
   "metadata": {},
   "outputs": [
    {
     "name": "stderr",
     "output_type": "stream",
     "text": [
      "/home/sebastian/.local/lib/python2.7/site-packages/sklearn/cross_validation.py:41: DeprecationWarning: This module was deprecated in version 0.18 in favor of the model_selection module into which all the refactored classes and functions are moved. Also note that the interface of the new CV iterators are different from that of this module. This module will be removed in 0.20.\n",
      "  \"This module will be removed in 0.20.\", DeprecationWarning)\n"
     ]
    }
   ],
   "source": [
    "import pandas as pd\n",
    "import numpy as np\n",
    "from sklearn.cross_validation import train_test_split\n",
    "from sklearn.metrics import mean_squared_error"
   ]
  },
  {
   "cell_type": "code",
   "execution_count": 2,
   "metadata": {},
   "outputs": [],
   "source": [
    "#---------------------------------------------------------\n",
    "# DELETE TRASH COLUMNS\n",
    "#---------------------------------------------------------\n",
    "def deleteTrashColumns(df):\n",
    "    columns = list(df.columns.values)\n",
    "    for column in columns:\n",
    "        if \"unnamed\" in column.lower():\n",
    "            df.drop(column, axis = 1, inplace = True) \n",
    "    return df\n",
    "#---------------------------------------------------------\n",
    "# PROCESS TRAIN SET\n",
    "#---------------------------------------------------------\n",
    "def ProcessTrainSet(df, withPrice):\n",
    "    df.dropna(axis=0, how='any', subset=list(df.columns.values), inplace=True)\n",
    "    \n",
    "    target = df['price_aprox_usd'].tolist()\n",
    "    if withPrice:\n",
    "        df.drop('price_aprox_usd', axis = 1, inplace = True)\n",
    "    \n",
    "    columns = list(df.columns.values)\n",
    "    data = list(df.values)\n",
    "    return data, target\n",
    "#---------------------------------------------------------\n",
    "# GET DATA AS LIST\n",
    "#---------------------------------------------------------\n",
    "def GetDataAsList(df):\n",
    "    columns = list(df.columns.values)\n",
    "    data = list(df.values)\n",
    "    return data\n",
    "#---------------------------------------------------------\n",
    "# PRINT SCORE\n",
    "#---------------------------------------------------------\n",
    "def printScore(prediction, target):\n",
    "    err = mean_squared_error(prediction, target)\n",
    "    print \"mean_squared_error: \", err\n",
    "    digitsQuantity = len(str(err).split('.')[0])\n",
    "    print \"digitsQuantity: \", digitsQuantity\n",
    "#---------------------------------------------------------\n",
    "# SAVE FINAL DF\n",
    "#---------------------------------------------------------\n",
    "def saveFinalDF(predictions, ids):\n",
    "    aData = {'price_usd': predictions}\n",
    "    final = pd.DataFrame(data = aData, index=ids)\n",
    "    final.to_csv(\"properati_dataset_sample_submision.csv\", \\\n",
    "    index = True, header = True, sep = ',', encoding = 'utf-8-sig')\n",
    "    return final"
   ]
  },
  {
   "cell_type": "markdown",
   "metadata": {},
   "source": [
    "# Set de entrenamiento"
   ]
  },
  {
   "cell_type": "code",
   "execution_count": 3,
   "metadata": {},
   "outputs": [],
   "source": [
    "df = pd.read_csv(\"dataTrain.csv\", low_memory = False)\n",
    "df = deleteTrashColumns(df)\n",
    "dataTrain, targetTrain = ProcessTrainSet(df, True)"
   ]
  },
  {
   "cell_type": "code",
   "execution_count": 4,
   "metadata": {},
   "outputs": [
    {
     "name": "stdout",
     "output_type": "stream",
     "text": [
      "data size:  248616\n",
      "target size:  248616\n",
      "columns size:  11\n"
     ]
    }
   ],
   "source": [
    "columns = list(df.columns.values)\n",
    "print \"data size: \", len(dataTrain)\n",
    "print \"target size: \", len(targetTrain)\n",
    "print \"columns size: \", len(columns)"
   ]
  },
  {
   "cell_type": "markdown",
   "metadata": {},
   "source": [
    "# Set de test"
   ]
  },
  {
   "cell_type": "code",
   "execution_count": 5,
   "metadata": {},
   "outputs": [],
   "source": [
    "predictDf = pd.read_csv(\"dataTest.csv\", low_memory = False)\n",
    "ids = predictDf['id']\n",
    "predictDf.drop('id', axis = 1, inplace = True)\n",
    "predictDf = deleteTrashColumns(predictDf)\n",
    "data = GetDataAsList(predictDf)"
   ]
  },
  {
   "cell_type": "code",
   "execution_count": 6,
   "metadata": {},
   "outputs": [
    {
     "name": "stdout",
     "output_type": "stream",
     "text": [
      "data size:  14166\n",
      "df size:  14166\n",
      "columns size:  11\n"
     ]
    }
   ],
   "source": [
    "columns = list(predictDf.columns.values)\n",
    "print \"data size: \", len(data)\n",
    "print \"df size: \", len(predictDf.index)\n",
    "print \"columns size: \", len(columns)\n",
    "#row should be 14166"
   ]
  },
  {
   "cell_type": "markdown",
   "metadata": {},
   "source": [
    "# Split"
   ]
  },
  {
   "cell_type": "code",
   "execution_count": 7,
   "metadata": {},
   "outputs": [],
   "source": [
    "xTrain, xTest, yTrain, yTest = train_test_split(dataTrain, targetTrain, test_size=0.5, random_state=0)"
   ]
  },
  {
   "cell_type": "markdown",
   "metadata": {},
   "source": [
    "# Prediccion "
   ]
  },
  {
   "cell_type": "markdown",
   "metadata": {},
   "source": [
    "# Linear Regression"
   ]
  },
  {
   "cell_type": "code",
   "execution_count": 10,
   "metadata": {},
   "outputs": [],
   "source": [
    "from sklearn.linear_model import LinearRegression"
   ]
  },
  {
   "cell_type": "code",
   "execution_count": 13,
   "metadata": {},
   "outputs": [
    {
     "name": "stdout",
     "output_type": "stream",
     "text": [
      "train score:  0.21847958081\n"
     ]
    }
   ],
   "source": [
    "lr = LinearRegression(normalize = True)\n",
    "lr.fit(xTrain, yTrain)\n",
    "print \"train score: \", lr.score(xTrain, yTrain)\n",
    "yPredictionTest = lr.predict(xTest)"
   ]
  },
  {
   "cell_type": "code",
   "execution_count": 14,
   "metadata": {},
   "outputs": [
    {
     "name": "stdout",
     "output_type": "stream",
     "text": [
      "mean_squared_error:  107624412685.0\n",
      "digitsQuantity:  12\n"
     ]
    }
   ],
   "source": [
    "printScore(yPredictionTest, yTest)"
   ]
  },
  {
   "cell_type": "code",
   "execution_count": 15,
   "metadata": {},
   "outputs": [],
   "source": [
    "lrPrediciton = lr.predict(data)\n",
    "final = saveFinalDF(lrPrediciton, ids)"
   ]
  },
  {
   "cell_type": "code",
   "execution_count": 16,
   "metadata": {},
   "outputs": [
    {
     "data": {
      "text/html": [
       "<div>\n",
       "<style>\n",
       "    .dataframe thead tr:only-child th {\n",
       "        text-align: right;\n",
       "    }\n",
       "\n",
       "    .dataframe thead th {\n",
       "        text-align: left;\n",
       "    }\n",
       "\n",
       "    .dataframe tbody tr th {\n",
       "        vertical-align: top;\n",
       "    }\n",
       "</style>\n",
       "<table border=\"1\" class=\"dataframe\">\n",
       "  <thead>\n",
       "    <tr style=\"text-align: right;\">\n",
       "      <th></th>\n",
       "      <th>price_usd</th>\n",
       "    </tr>\n",
       "    <tr>\n",
       "      <th>id</th>\n",
       "      <th></th>\n",
       "    </tr>\n",
       "  </thead>\n",
       "  <tbody>\n",
       "    <tr>\n",
       "      <th>3632</th>\n",
       "      <td>8.872459e+07</td>\n",
       "    </tr>\n",
       "    <tr>\n",
       "      <th>3633</th>\n",
       "      <td>1.000604e+09</td>\n",
       "    </tr>\n",
       "    <tr>\n",
       "      <th>2263404</th>\n",
       "      <td>6.386923e+07</td>\n",
       "    </tr>\n",
       "    <tr>\n",
       "      <th>2263405</th>\n",
       "      <td>1.180260e+08</td>\n",
       "    </tr>\n",
       "    <tr>\n",
       "      <th>2263406</th>\n",
       "      <td>1.180039e+08</td>\n",
       "    </tr>\n",
       "  </tbody>\n",
       "</table>\n",
       "</div>"
      ],
      "text/plain": [
       "            price_usd\n",
       "id                   \n",
       "3632     8.872459e+07\n",
       "3633     1.000604e+09\n",
       "2263404  6.386923e+07\n",
       "2263405  1.180260e+08\n",
       "2263406  1.180039e+08"
      ]
     },
     "execution_count": 16,
     "metadata": {},
     "output_type": "execute_result"
    }
   ],
   "source": [
    "final.head()"
   ]
  },
  {
   "cell_type": "markdown",
   "metadata": {},
   "source": [
    "# Transformacion no lineal a lineal"
   ]
  },
  {
   "cell_type": "markdown",
   "metadata": {},
   "source": [
    "#  (Este metodo da precios demasiado altos y es peor que el lineal hecho en el paso anterior)"
   ]
  },
  {
   "cell_type": "markdown",
   "metadata": {},
   "source": [
    "Si tomamos como ejemplo una función f que toma la forma :  f(x) = a + bx + cx²\n",
    "\n",
    "La función f es no lineal en función de x pero si es lineal en función de los parámetros desconocidos a, b, y c. O visto de otra manera: podemos sustituir nuestras variables x por un array z tal que: z = [1, x, x²]. Con el que podríamos reescribir nuestra función f como f(z) = a z0 + bz1 + c*z2\n",
    "\n",
    "Scikit-learn tiene un objeto PolynomialFeatures que nos va a servir para convertir nuestra variable x en un array z del tipo z = [1, x, x2, …, n^n], que es lo que nos interesa.\n",
    "\n",
    "El resultado de esa transformación se la pasamos a nuestro modelo Ridge. Para facilitar la tarea en este tipo de casos —donde se realizan varios pasos que van desde el pre-tratamiento de los datos hasta un posible post-tratamiento pasando por el entrenamiento—, podemos hacer uso de las Pipeline que nos permiten encadenar multiples estimadores en uno. Esto es especialmente útil cuando hay secuencia de pasos predefinidos en el procesado de datos con, por ejemplo, selección de atributos, normalización y clasificación."
   ]
  },
  {
   "cell_type": "code",
   "execution_count": 39,
   "metadata": {},
   "outputs": [],
   "source": [
    "from sklearn.linear_model import Ridge\n",
    "from sklearn.preprocessing import PolynomialFeatures\n",
    "from sklearn.linear_model import LinearRegression"
   ]
  },
  {
   "cell_type": "code",
   "execution_count": 40,
   "metadata": {},
   "outputs": [
    {
     "data": {
      "text/plain": [
       "0.47584163502095844"
      ]
     },
     "execution_count": 40,
     "metadata": {},
     "output_type": "execute_result"
    }
   ],
   "source": [
    "poly = PolynomialFeatures(degree = 2)\n",
    "z = poly.fit_transform(xTrain)\n",
    "lr = LinearRegression(normalize=True)\n",
    "lr.fit(z, yTrain)\n",
    "lr.score(z, yTrain)"
   ]
  },
  {
   "cell_type": "code",
   "execution_count": 41,
   "metadata": {},
   "outputs": [
    {
     "name": "stdout",
     "output_type": "stream",
     "text": [
      "precision sample:  -5283.84172093\n"
     ]
    }
   ],
   "source": [
    "zTest = poly.fit_transform(xTest)\n",
    "predictionsSamplePlynomial = lr.predict(zTest)\n",
    "print \"precision sample: \", lr.score(zTest, yTest)"
   ]
  },
  {
   "cell_type": "code",
   "execution_count": 42,
   "metadata": {},
   "outputs": [],
   "source": [
    "DataTransformed = poly.fit_transform(data)\n",
    "predictions = lr.predict(DataTransformed)\n",
    "final = saveFinalDF(predictions, ids)"
   ]
  },
  {
   "cell_type": "code",
   "execution_count": 43,
   "metadata": {},
   "outputs": [
    {
     "data": {
      "text/html": [
       "<div>\n",
       "<style>\n",
       "    .dataframe thead tr:only-child th {\n",
       "        text-align: right;\n",
       "    }\n",
       "\n",
       "    .dataframe thead th {\n",
       "        text-align: left;\n",
       "    }\n",
       "\n",
       "    .dataframe tbody tr th {\n",
       "        vertical-align: top;\n",
       "    }\n",
       "</style>\n",
       "<table border=\"1\" class=\"dataframe\">\n",
       "  <thead>\n",
       "    <tr style=\"text-align: right;\">\n",
       "      <th></th>\n",
       "      <th>price_usd</th>\n",
       "    </tr>\n",
       "    <tr>\n",
       "      <th>id</th>\n",
       "      <th></th>\n",
       "    </tr>\n",
       "  </thead>\n",
       "  <tbody>\n",
       "    <tr>\n",
       "      <th>3632</th>\n",
       "      <td>-1.309150e+22</td>\n",
       "    </tr>\n",
       "    <tr>\n",
       "      <th>3633</th>\n",
       "      <td>-2.594522e+23</td>\n",
       "    </tr>\n",
       "    <tr>\n",
       "      <th>2263404</th>\n",
       "      <td>-1.635580e+22</td>\n",
       "    </tr>\n",
       "    <tr>\n",
       "      <th>2263405</th>\n",
       "      <td>-1.460626e+22</td>\n",
       "    </tr>\n",
       "    <tr>\n",
       "      <th>2263406</th>\n",
       "      <td>-1.452099e+22</td>\n",
       "    </tr>\n",
       "  </tbody>\n",
       "</table>\n",
       "</div>"
      ],
      "text/plain": [
       "            price_usd\n",
       "id                   \n",
       "3632    -1.309150e+22\n",
       "3633    -2.594522e+23\n",
       "2263404 -1.635580e+22\n",
       "2263405 -1.460626e+22\n",
       "2263406 -1.452099e+22"
      ]
     },
     "execution_count": 43,
     "metadata": {},
     "output_type": "execute_result"
    }
   ],
   "source": [
    "final.head()"
   ]
  },
  {
   "cell_type": "markdown",
   "metadata": {},
   "source": [
    "# Decicion Tree"
   ]
  },
  {
   "cell_type": "code",
   "execution_count": 20,
   "metadata": {},
   "outputs": [],
   "source": [
    "from sklearn.model_selection import cross_val_score\n",
    "#from sklearn.grid_search import GridSearchCV\n",
    "from sklearn.model_selection import GridSearchCV\n",
    "from sklearn.tree import DecisionTreeRegressor"
   ]
  },
  {
   "cell_type": "code",
   "execution_count": 28,
   "metadata": {},
   "outputs": [],
   "source": [
    "params = {\n",
    "    'max_depth': [i for i in range(50, 100)],\n",
    "    'criterion': [\"mse\", \"friedman_mse\", \"mae\"]\n",
    "}\n",
    "gs = GridSearchCV(DecisionTreeRegressor(), params, cv=3, n_jobs=1, verbose=1, scoring=None, refit=True)"
   ]
  },
  {
   "cell_type": "code",
   "execution_count": 22,
   "metadata": {},
   "outputs": [
    {
     "name": "stdout",
     "output_type": "stream",
     "text": [
      "Fitting 3 folds for each of 50 candidates, totalling 150 fits\n"
     ]
    },
    {
     "name": "stderr",
     "output_type": "stream",
     "text": [
      "[Parallel(n_jobs=1)]: Done 150 out of 150 | elapsed:  2.5min finished\n"
     ]
    },
    {
     "name": "stdout",
     "output_type": "stream",
     "text": [
      "precision test:  0.813992204442\n",
      "best params:  {'max_depth': 52}\n",
      "best score:  0.857575214328\n",
      "best estimator:  DecisionTreeRegressor(criterion='mse', max_depth=52, max_features=None,\n",
      "           max_leaf_nodes=None, min_impurity_decrease=0.0,\n",
      "           min_impurity_split=None, min_samples_leaf=1,\n",
      "           min_samples_split=2, min_weight_fraction_leaf=0.0,\n",
      "           presort=False, random_state=None, splitter='best')\n"
     ]
    }
   ],
   "source": [
    "gs.fit(xTrain, yTrain)\n",
    "yTestPrediction = gs.predict(xTest)\n",
    "print \"precision test: \", gs.score(xTest, yTest)\n",
    "print \"best params: \", gs.best_params_\n",
    "print \"best score: \", gs.best_score_ \n",
    "print \"best estimator: \", gs.best_estimator_"
   ]
  },
  {
   "cell_type": "code",
   "execution_count": 23,
   "metadata": {},
   "outputs": [
    {
     "name": "stdout",
     "output_type": "stream",
     "text": [
      "mean_squared_error:  29021169742.2\n",
      "digitsQuantity:  11\n"
     ]
    }
   ],
   "source": [
    "printScore(yTestPrediction, yTest)"
   ]
  },
  {
   "cell_type": "code",
   "execution_count": 24,
   "metadata": {},
   "outputs": [],
   "source": [
    "predictionDTR = gs.predict(data)\n",
    "final = saveFinalDF(predictionDTR, ids)"
   ]
  },
  {
   "cell_type": "code",
   "execution_count": 27,
   "metadata": {},
   "outputs": [
    {
     "data": {
      "text/html": [
       "<div>\n",
       "<style>\n",
       "    .dataframe thead tr:only-child th {\n",
       "        text-align: right;\n",
       "    }\n",
       "\n",
       "    .dataframe thead th {\n",
       "        text-align: left;\n",
       "    }\n",
       "\n",
       "    .dataframe tbody tr th {\n",
       "        vertical-align: top;\n",
       "    }\n",
       "</style>\n",
       "<table border=\"1\" class=\"dataframe\">\n",
       "  <thead>\n",
       "    <tr style=\"text-align: right;\">\n",
       "      <th></th>\n",
       "      <th>price_usd</th>\n",
       "    </tr>\n",
       "    <tr>\n",
       "      <th>id</th>\n",
       "      <th></th>\n",
       "    </tr>\n",
       "  </thead>\n",
       "  <tbody>\n",
       "    <tr>\n",
       "      <th>3632</th>\n",
       "      <td>1800000.0</td>\n",
       "    </tr>\n",
       "    <tr>\n",
       "      <th>3633</th>\n",
       "      <td>3600000.0</td>\n",
       "    </tr>\n",
       "    <tr>\n",
       "      <th>2263404</th>\n",
       "      <td>1200000.0</td>\n",
       "    </tr>\n",
       "    <tr>\n",
       "      <th>2263405</th>\n",
       "      <td>1800000.0</td>\n",
       "    </tr>\n",
       "    <tr>\n",
       "      <th>2263406</th>\n",
       "      <td>1800000.0</td>\n",
       "    </tr>\n",
       "  </tbody>\n",
       "</table>\n",
       "</div>"
      ],
      "text/plain": [
       "         price_usd\n",
       "id                \n",
       "3632     1800000.0\n",
       "3633     3600000.0\n",
       "2263404  1200000.0\n",
       "2263405  1800000.0\n",
       "2263406  1800000.0"
      ]
     },
     "execution_count": 27,
     "metadata": {},
     "output_type": "execute_result"
    }
   ],
   "source": [
    "final.head()\n",
    "# 3632: $410000"
   ]
  },
  {
   "cell_type": "markdown",
   "metadata": {},
   "source": [
    "# Random Forest Regressor"
   ]
  },
  {
   "cell_type": "code",
   "execution_count": 78,
   "metadata": {},
   "outputs": [],
   "source": [
    "from sklearn.ensemble import RandomForestRegressor\n",
    "from sklearn.grid_search import GridSearchCV"
   ]
  },
  {
   "cell_type": "code",
   "execution_count": 79,
   "metadata": {},
   "outputs": [],
   "source": [
    "params = {\n",
    "    'max_depth': [4,6],\n",
    "    'min_samples_leaf': [3, 5, 9],\n",
    "    'max_features': [1.0, 0.3, 0.1]\n",
    "}\n",
    "gs = GridSearchCV(RandomForestRegressor(), params, cv=3, n_jobs=1, verbose=1, scoring=None, refit=True)"
   ]
  },
  {
   "cell_type": "code",
   "execution_count": 80,
   "metadata": {},
   "outputs": [
    {
     "name": "stdout",
     "output_type": "stream",
     "text": [
      "Fitting 3 folds for each of 18 candidates, totalling 54 fits\n"
     ]
    },
    {
     "name": "stderr",
     "output_type": "stream",
     "text": [
      "[Parallel(n_jobs=1)]: Done  54 out of  54 | elapsed:   57.6s finished\n"
     ]
    },
    {
     "name": "stdout",
     "output_type": "stream",
     "text": [
      "score train:  0.730790922777\n"
     ]
    }
   ],
   "source": [
    "gs.fit(xTrain, yTrain)\n",
    "print \"score train: \", gs.score(xTrain, yTrain)"
   ]
  },
  {
   "cell_type": "code",
   "execution_count": 81,
   "metadata": {},
   "outputs": [
    {
     "name": "stdout",
     "output_type": "stream",
     "text": [
      "score test:  0.634321865073\n"
     ]
    }
   ],
   "source": [
    "yTestPredictionRF = gs.predict(xTest)\n",
    "print \"score test: \", gs.score(xTest, yTest)"
   ]
  },
  {
   "cell_type": "code",
   "execution_count": 82,
   "metadata": {},
   "outputs": [
    {
     "name": "stdout",
     "output_type": "stream",
     "text": [
      "mean_squared_error:  57053561615.0\n",
      "digitsQuantity:  11\n"
     ]
    }
   ],
   "source": [
    "printScore(yTestPredictionRF, yTest)"
   ]
  },
  {
   "cell_type": "code",
   "execution_count": 83,
   "metadata": {},
   "outputs": [],
   "source": [
    "RFPrediction = gs.predict(data)\n",
    "final = saveFinalDF(RFPrediction, ids)"
   ]
  },
  {
   "cell_type": "code",
   "execution_count": 84,
   "metadata": {},
   "outputs": [
    {
     "data": {
      "text/html": [
       "<div>\n",
       "<style>\n",
       "    .dataframe thead tr:only-child th {\n",
       "        text-align: right;\n",
       "    }\n",
       "\n",
       "    .dataframe thead th {\n",
       "        text-align: left;\n",
       "    }\n",
       "\n",
       "    .dataframe tbody tr th {\n",
       "        vertical-align: top;\n",
       "    }\n",
       "</style>\n",
       "<table border=\"1\" class=\"dataframe\">\n",
       "  <thead>\n",
       "    <tr style=\"text-align: right;\">\n",
       "      <th></th>\n",
       "      <th>price_usd</th>\n",
       "    </tr>\n",
       "    <tr>\n",
       "      <th>id</th>\n",
       "      <th></th>\n",
       "    </tr>\n",
       "  </thead>\n",
       "  <tbody>\n",
       "    <tr>\n",
       "      <th>3632</th>\n",
       "      <td>2.748631e+06</td>\n",
       "    </tr>\n",
       "    <tr>\n",
       "      <th>3633</th>\n",
       "      <td>2.326602e+06</td>\n",
       "    </tr>\n",
       "    <tr>\n",
       "      <th>2263404</th>\n",
       "      <td>1.693606e+06</td>\n",
       "    </tr>\n",
       "    <tr>\n",
       "      <th>2263405</th>\n",
       "      <td>2.748631e+06</td>\n",
       "    </tr>\n",
       "    <tr>\n",
       "      <th>2263406</th>\n",
       "      <td>2.748631e+06</td>\n",
       "    </tr>\n",
       "  </tbody>\n",
       "</table>\n",
       "</div>"
      ],
      "text/plain": [
       "            price_usd\n",
       "id                   \n",
       "3632     2.748631e+06\n",
       "3633     2.326602e+06\n",
       "2263404  1.693606e+06\n",
       "2263405  2.748631e+06\n",
       "2263406  2.748631e+06"
      ]
     },
     "execution_count": 84,
     "metadata": {},
     "output_type": "execute_result"
    }
   ],
   "source": [
    "final.head()"
   ]
  },
  {
   "cell_type": "code",
   "execution_count": null,
   "metadata": {},
   "outputs": [],
   "source": []
  }
 ],
 "metadata": {
  "kernelspec": {
   "display_name": "Python 2",
   "language": "python",
   "name": "python2"
  },
  "language_info": {
   "codemirror_mode": {
    "name": "ipython",
    "version": 2
   },
   "file_extension": ".py",
   "mimetype": "text/x-python",
   "name": "python",
   "nbconvert_exporter": "python",
   "pygments_lexer": "ipython2",
   "version": "2.7.12"
  }
 },
 "nbformat": 4,
 "nbformat_minor": 2
}
