{
 "cells": [
  {
   "cell_type": "code",
   "execution_count": 47,
   "metadata": {},
   "outputs": [],
   "source": [
    "import pandas as pd\n",
    "import numpy as np\n",
    "from os import listdir\n",
    "from sklearn import datasets\n",
    "from sklearn.linear_model import LinearRegression\n",
    "%matplotlib inline\n",
    "import matplotlib.pyplot as plt"
   ]
  },
  {
   "cell_type": "markdown",
   "metadata": {},
   "source": [
    "# Preproceso del set de entrenamiento"
   ]
  },
  {
   "cell_type": "markdown",
   "metadata": {},
   "source": [
    "# Funciones del uso de informacion del campo de descripcion"
   ]
  },
  {
   "cell_type": "code",
   "execution_count": 256,
   "metadata": {},
   "outputs": [],
   "source": [
    "def isFloat(x):\n",
    "    try:\n",
    "        float(x)\n",
    "        return True\n",
    "    except ValueError:\n",
    "        return False"
   ]
  },
  {
   "cell_type": "code",
   "execution_count": 316,
   "metadata": {},
   "outputs": [],
   "source": [
    "false = 0\n",
    "true = 1\n",
    "# ------------------------------------------------------------------------------\n",
    "# INICIALIZAR DICCIONARIO\n",
    "# ------------------------------------------------------------------------------\n",
    "# pre: Recibe una lista de claves\n",
    "# pos: devuelve un diccionario de esas claves recibidas inicializadas en cero\n",
    "\n",
    "def inicializar_diccionario(keys):\n",
    "    dicc = {}\n",
    "    for charac in keys:\n",
    "        dicc[charac] = 0\n",
    "    return dicc\n",
    "\n",
    "#------------------------------------------------------\n",
    "# GET SURFACE\n",
    "#------------------------------------------------------\n",
    "def getSurface(df):\n",
    "    dfSize = len(df.index)\n",
    "    surfaces = df['surface_total_in_m2'].tolist()\n",
    "    if 'description' not in df:\n",
    "        return surfaces\n",
    "    descriptions = df['description'].tolist()\n",
    "    for i in range(0, dfSize):\n",
    "        surfaceCalculated = 0\n",
    "        words = descriptions[i].split()\n",
    "        wordsSize = len(words)\n",
    "        for pos in range(0, wordsSize):\n",
    "            surfaceCalculated, offset, iFound = findSurface(words, pos, surfaceCalculated)\n",
    "            if iFound:\n",
    "                pos += offset\n",
    "        surfaces[i] = validateSurface(surfaces[i], surfaceCalculated)\n",
    "    return surfaces\n",
    "\n",
    "# ------------------------------------------------------------------------------\n",
    "# VALIDATE SURFACE\n",
    "# ------------------------------------------------------------------------------\n",
    "def validateSurface(surface, surfaceCalculated):\n",
    "    if np.isnan(surface):\n",
    "        return surfaceCalculated\n",
    "    if surface != surfaceCalculated:\n",
    "        return surface\n",
    "    if surface == surfaceCalculated:\n",
    "        return surface\n",
    "    \n",
    "# ------------------------------------------------------------------------------\n",
    "# ENCONTRAR SUPERFICIE\n",
    "# ------------------------------------------------------------------------------\n",
    "def findSurface(words, i, surface):\n",
    "    size = len(words)\n",
    "    offset = 0 \n",
    "    iFound = False\n",
    "    if isFloat(words[i]):\n",
    "        if (i + 2 < size) and words[i+1].lower() == \"x\" and isFloat(words[i+2]):\n",
    "            a = float(words[i])\n",
    "            b = float(words[i+2])        \n",
    "            surface += a*b\n",
    "            return surface, offset, iFound\n",
    "    return surface, offset, iFound\n",
    "\n",
    "# ------------------------------------------------------------------------------\n",
    "# ENCONTRAR CANTIDAD DE AMBIENTES\n",
    "# ------------------------------------------------------------------------------\n",
    "def FindsNumberOfRooms(words, i, numberOfRooms):\n",
    "    rooms = [\n",
    "        \"living\", \n",
    "        \"comedor\", \n",
    "        \"cocina\", \n",
    "        \"lavadero\", \n",
    "        \"dormitorio\", \n",
    "        \"vestidor\",\n",
    "        \"baño\"\n",
    "    ]\n",
    "    end = False\n",
    "    size = len(words)\n",
    "    if words[i].isdigit():\n",
    "        if (i + 1 < size) and words[i+1].lower() == \"ambientes\":\n",
    "            numberOfRooms = int(words[i])\n",
    "            return numberOfRooms, end\n",
    "        if (i + 1 < size) and words[i+1].lower() == \"dormitorios\":\n",
    "            numberOfRooms += int(words[i])\n",
    "            return numberOfRooms, not end\n",
    "    if words[i].lower in rooms:\n",
    "        numberOfRooms += 1\n",
    "        return numberOfRooms, not end\n",
    "    return numberOfRooms, not end\n",
    "\n",
    "#------------------------------------------------------\n",
    "# VALIDATE ROOM\n",
    "#------------------------------------------------------\n",
    "def validateRoom(numberOfRooms, numberOfRoomsCalculated):\n",
    "    if np.isnan(numberOfRooms):\n",
    "        return numberOfRoomsCalculated\n",
    "    if numberOfRooms != numberOfRoomsCalculated:\n",
    "        return numberOfRooms\n",
    "    if numberOfRooms == numberOfRoomsCalculated:\n",
    "        return numberOfRooms\n",
    "    \n",
    "#------------------------------------------------------\n",
    "# GET ROOMS\n",
    "#------------------------------------------------------\n",
    "def getRooms(df):\n",
    "    rooms = df['rooms'].tolist()\n",
    "    if 'description' not in df:\n",
    "        return rooms\n",
    "    dfSize = len(df.index)\n",
    "    descriptions = df['description'].tolist()\n",
    "    for i in range(0, dfSize):\n",
    "        numberOfRooms = 0\n",
    "        words = descriptions[i].split()\n",
    "        wordsSize = len(words)\n",
    "        for pos in range(0, wordsSize):\n",
    "            numberOfRooms, end = FindsNumberOfRooms(words, pos, numberOfRooms)\n",
    "            if end:\n",
    "                break\n",
    "        rooms[i] = validateRoom(rooms[i], numberOfRooms)\n",
    "    return rooms\n",
    "# ------------------------------------------------------------------------------\n",
    "# ENCONTRAR FRASE\n",
    "# ------------------------------------------------------------------------------\n",
    "# pre: Recibe un vector de palabras, la posicion en ese vector que se\n",
    "# esta leyendo, y un vector de frases\n",
    "# pos: Devuelve una tripla que dice si alguna de las frases en el\n",
    "# vector \"phrases\", el offset el cual debe desplazarse la posicion de lectura\n",
    "# del vector \"words\" y el indice en donde se encuantrala frase encontrada en el\n",
    "# vector \"phrases\"\n",
    "\n",
    "def encontrar_frase(words, i, phrases):\n",
    "    offset = 0\n",
    "    index = 0\n",
    "    for phrase in phrases:\n",
    "        if words[i].lower() in phrase:\n",
    "            phrase_split = phrase.split()\n",
    "            size = len(phrase_split)\n",
    "            offset = size\n",
    "            index = phrases.index(phrase)\n",
    "            for j in range(0, size):\n",
    "                if (i + j < size) and (words[i + j] != phrase_split[j]):\n",
    "                    return False, offset, index\n",
    "            return True, offset, index\n",
    "    return False, offset, index\n",
    "\n",
    "\n",
    "# ------------------------------------------------------------------------------\n",
    "# CREAR DICCIONARIO DESCRIPCION\n",
    "# ------------------------------------------------------------------------------\n",
    "# pre: Recibe un dataframe\n",
    "# pos: Devuelve una lista de diccionarios\n",
    "\n",
    "def crear_diccionario_descripcion(df):\n",
    "    characteristics = [\n",
    "        \"living\",\n",
    "        \"cochera\",\n",
    "        \"comedor\",\n",
    "        \"pileta\",\n",
    "        \"piscina\"\n",
    "    ]\n",
    "    phrases = [\n",
    "        \"cancha de tenis\",\n",
    "        \"club house\",\n",
    "        \"sector de juegos infantiles\",\n",
    "        \"futbol 5\",\n",
    "        \"seguridad las 24 hs\"\n",
    "    ]\n",
    "    size = len(df.index)\n",
    "    dicc_list = []\n",
    "    for i in range(0, size):\n",
    "        dicc = inicializar_diccionario(characteristics + phrases)\n",
    "        if 'description' not in df:\n",
    "            dicc_list.append(dicc)\n",
    "            continue\n",
    "        description = list(df['description'])\n",
    "        if type(description[i]) != type(\"\"):\n",
    "            dicc_list.append(dicc)\n",
    "            continue\n",
    "        words = description[i].split()\n",
    "        lenght = len(words)\n",
    "        for j in range(0, lenght):\n",
    "            (wordBelongs, offset, index) = encontrar_frase(words, j, phrases)\n",
    "            if wordBelongs:\n",
    "                j += offset\n",
    "                if j >= lenght:\n",
    "                    break\n",
    "                dicc[phrases[index]] = true\n",
    "            if words[j].lower() in characteristics:\n",
    "                dicc[words[j].lower()] = true\n",
    "        dicc_list.append(dicc)\n",
    "    return dicc_list\n",
    "\n",
    "# ------------------------------------------------------------------------------\n",
    "#\n",
    "# ------------------------------------------------------------------------------"
   ]
  },
  {
   "cell_type": "markdown",
   "metadata": {},
   "source": [
    "# Funciones de filtrado del data set"
   ]
  },
  {
   "cell_type": "code",
   "execution_count": 206,
   "metadata": {},
   "outputs": [],
   "source": [
    "#----------------------------------------------------------------------\n",
    "# Filtro de propiedades con precio calculable. Devuelve 1 si es válido. \n",
    "# De lo contrario, nan (Not A Number)\n",
    "#----------------------------------------------------------------------\n",
    "def filterPercentage(array):\n",
    "    priceUSD, usdM2, surfaceTotal = array\n",
    "    if priceUSD <= 0:\n",
    "        return np.nan\n",
    "    price = usdM2 * surfaceTotal\n",
    "    dif = abs(price - priceUSD)\n",
    "    if ((dif / priceUSD) * 100) <= 10:\n",
    "        return 1\n",
    "    return np.nan\n",
    "#----------------------------------------------------------------------\n",
    "# Filtro de propiedades con precio calculable. Devuelve 1 si es válido. \n",
    "# De lo contrario, nan (Not A Number)\n",
    "#----------------------------------------------------------------------\n",
    "def filterImposibles(array):\n",
    "    priceUSD, usdM2, surfaceTotal = array\n",
    "    if (np.isnan(surfaceTotal) or surfaceTotal <= 0) and not np.isnan(priceUSD) and not np.isnan(usdM2):\n",
    "        return 1\n",
    "    if np.isnan(priceUSD) and (not np.isnan(surfaceTotal) or surfaceTotal > 0) and not np.isnan(usdM2):\n",
    "        return 1\n",
    "    if np.isnan(usdM2) and (not np.isnan(surfaceTotal) or surfaceTotal > 0) and not np.isnan(priceUSD):\n",
    "        return 1\n",
    "    if not np.isnan(usdM2) and (not np.isnan(surfaceTotal) or surfaceTotal > 0) and not np.isnan(priceUSD):\n",
    "        return 1\n",
    "    return np.nan\n",
    "#----------------------------------------------------------------------\n",
    "# Cálculo del precio aproximado de venta\n",
    "#----------------------------------------------------------------------\n",
    "def fillPrice(array):\n",
    "    priceUSD, usdM2, surfaceTotal = array\n",
    "    if np.isnan(priceUSD) and not np.isnan(usdM2):\n",
    "        return (usdM2 * surfaceTotal)\n",
    "    return priceUSD\n",
    "#----------------------------------------------------------------------\n",
    "# Cálculo del precio del metro cuadrado\n",
    "#----------------------------------------------------------------------\n",
    "def fillM2(array):\n",
    "    priceUSD, usdM2, surfaceTotal = array\n",
    "    if surfaceTotal <= 0:\n",
    "        return np.nan\n",
    "    if not np.isnan(priceUSD) and np.isnan(usdM2):\n",
    "        return (priceUSD / surfaceTotal)\n",
    "    return usdM2\n",
    "#----------------------------------------------------------------------\n",
    "# Cálculo de la superficie\n",
    "#----------------------------------------------------------------------\n",
    "def fillSurface(array):\n",
    "    priceUSD, usdM2, surfaceTotal = array\n",
    "    if not np.isnan(priceUSD) and np.isnan(usdM2):\n",
    "        return (priceUSD / usdM2)\n",
    "    return surfaceTotal\n",
    "#----------------------------------------------------------------------\n",
    "# Obtenemos el año y mes del nombre de archivo\n",
    "#----------------------------------------------------------------------\n",
    "def addDate(date, df):\n",
    "    date_splitted = archive.split('-')\n",
    "    month = date_splitted[3]\n",
    "    year = date_splitted[2]\n",
    "    date = year + '-' + month\n",
    "    size = len(df.index)\n",
    "    dates = pd.Series([date for i in range(0, size)])\n",
    "    # y lo ponemos como dato en una columna\n",
    "    df['date'] = dates\n",
    "    df.loc[:, ['date']] = pd.to_datetime(df['date'], errors = 'coerce')\n",
    "    return df\n",
    "#----------------------------------------------------------------------\n",
    "# Durante la carga de datos, se eliminan ciertas columnas que nos \n",
    "#resultan irrelevantes para el trabajo\n",
    "#----------------------------------------------------------------------\n",
    "def filterUnnecesaryColumns(df, isId):\n",
    "    if 'surface_covered_in_m2' in df:\n",
    "        df.drop('surface_covered_in_m2', axis = 1, inplace = True)\n",
    "    if 'country_name' in df:\n",
    "        df.drop('country_name', axis = 1, inplace = True)\n",
    "    if 'price_aprox_local_currency' in df:\n",
    "        df.drop('price_aprox_local_currency', axis = 1, inplace = True)\n",
    "    if 'expenses' in df:\n",
    "        df.drop('expenses', axis = 1, inplace = True)\n",
    "    if 'properati_url' in df:\n",
    "        df.drop('properati_url', axis = 1, inplace = True)\n",
    "    if 'extra' in df:\n",
    "        df.drop('extra', axis = 1, inplace = True)\n",
    "    if 'geonames_id' in df:\n",
    "        df.drop('geonames_id', axis = 1, inplace = True)\n",
    "    if 'image_thumbnail' in df:\n",
    "        df.drop('image_thumbnail', axis = 1, inplace = True)\n",
    "    if 'operation' in df:\n",
    "        df.drop('operation', axis = 1, inplace = True)\n",
    "    if 'created_on' in df:\n",
    "        df.drop('created_on', axis = 1, inplace = True)\n",
    "    if 'lat-lon' in df:\n",
    "        df.drop('lat-lon', axis = 1, inplace = True)\n",
    "    if 'currency' in df:\n",
    "        df.drop('currency', axis = 1, inplace = True)\n",
    "    if 'title' in df:\n",
    "        df.drop('title', axis = 1, inplace = True)\n",
    "    if not isId and 'id' in df:\n",
    "        df.drop('id', axis = 1, inplace = True)\n",
    "    if 'price_aprox_local_currency' in df:\n",
    "        df.drop('price_aprox_local_currency', axis = 1, inplace = True)\n",
    "    if 'price_aprox_usd' in df and 'price' in df:\n",
    "        df.drop('price', axis = 1, inplace = True)\n",
    "    if 'extra' in df and 'price' in df:\n",
    "        df.drop('extra', axis = 1, inplace = True)\n",
    "    return df\n",
    "#----------------------------------------------------------------------\n",
    "# ADD DESCRIPTIONS COLUMNS\n",
    "#----------------------------------------------------------------------\n",
    "def addDescriptionColumns(df, columDict):\n",
    "    size = len(df.index)\n",
    "    description = list(df[columDict])\n",
    "    keys = description[0].keys()\n",
    "    for key in keys:\n",
    "        colum = []\n",
    "        for i in range(0, size):\n",
    "            value = description[i][key]\n",
    "            colum.append(value)\n",
    "        df[key] = colum\n",
    "    return df\n",
    "#----------------------------------------------------------------------\n",
    "# CHANGE PLACE WITH PARENT NAMES COLUMN TO NUMBER\n",
    "#----------------------------------------------------------------------\n",
    "def changePlaceWithParentsNamesColumn(df):    \n",
    "    listPlaces = df['place_with_parent_names'].tolist()\n",
    "    size = len(listPlaces)\n",
    "    for i in range(0, size):\n",
    "        listPlaces[i] = PlaceToNumber(listPlaces[i])\n",
    "    df['place_with_parent_names'] = listPlaces\n",
    "    return df\n",
    "#----------------------------------------------------------------------\n",
    "# PLACE TO NUMBER\n",
    "#----------------------------------------------------------------------\n",
    "def PlaceToNumber(x):\n",
    "    CF = 0\n",
    "    GBA = 1\n",
    "    x = str(x)\n",
    "    if 'Capital Federal' in x:\n",
    "        return CF\n",
    "    else:\n",
    "        return GBA\n",
    "#----------------------------------------------------------------------\n",
    "# CHANGE PROPERTY TYPE COLUMN TO NUMBER\n",
    "#----------------------------------------------------------------------\n",
    "def changePropertyTypeColumn(df):    \n",
    "    listPropertyType = df['property_type'].tolist()\n",
    "    size = len(listPropertyType)\n",
    "    for i in range(0, size):\n",
    "        listPropertyType[i] = propertyTypeToNumber(listPropertyType[i])\n",
    "    df['property_type'] = listPropertyType\n",
    "    return df\n",
    "#----------------------------------------------------------------------\n",
    "# PROPERTY TYPE TO NUMBER\n",
    "#----------------------------------------------------------------------\n",
    "def propertyTypeToNumber(x):\n",
    "    ph = 0\n",
    "    apartment = 1\n",
    "    house = 2\n",
    "    store = 3\n",
    "    if x.lower() == \"apartment\" or x.lower() == \"departamento\":\n",
    "        return apartment\n",
    "    if x.lower() == \"ph\":\n",
    "        return ph\n",
    "    if x.lower() == \"house\" or x.lower() == \"casa\":\n",
    "        return house\n",
    "    if x.lower() == \"store\":\n",
    "        return store\n",
    "#----------------------------------------------------------------------\n",
    "# Inclui cero si es casa y floor es nan\n",
    "#----------------------------------------------------------------------\n",
    "def aggFloor(floor):\n",
    "    if np.isnan(floor):\n",
    "        return 0\n",
    "    else:\n",
    "        return floor"
   ]
  },
  {
   "cell_type": "code",
   "execution_count": 50,
   "metadata": {},
   "outputs": [],
   "source": [
    "properties = []\n",
    "archivesProceced = []"
   ]
  },
  {
   "cell_type": "markdown",
   "metadata": {},
   "source": [
    "# Loop principal del filtrado de cada dataframe del set de entrenamiento"
   ]
  },
  {
   "cell_type": "code",
   "execution_count": 51,
   "metadata": {},
   "outputs": [
    {
     "name": "stdout",
     "output_type": "stream",
     "text": [
      "properati-AR-2017-05-01-properties-sell.csv\n",
      "properati-AR-2014-01-01-properties-sell.csv\n",
      "properati-AR-2013-08-01-properties-sell.csv\n",
      "properati-AR-2015-04-01-properties-sell.csv\n",
      "properati-AR-2014-02-01-properties-sell.csv\n",
      "properati-AR-2013-09-01-properties-sell.csv\n",
      "properati-AR-2016-09-01-properties-sell.csv\n",
      "properati-AR-2017-01-01-properties-sell.csv\n",
      "properati-AR-2013-10-01-properties-sell.csv\n",
      "properati-AR-2015-05-01-properties-sell.csv\n",
      "properati-AR-2013-12-01-properties-sell.csv\n",
      "properati-AR-2014-05-01-properties-sell.csv\n",
      "properati-AR-2014-11-01-properties-sell.csv\n",
      "properati-AR-2014-09-01-properties-sell.csv\n",
      "properati-AR-2015-02-01-properties-sell.csv\n",
      "properati-AR-2016-08-01-properties-sell.csv\n",
      "properati-AR-2016-01-01-properties-sell.csv\n",
      "properati-AR-2016-11-01-properties-sell.csv\n",
      "properati-AR-2015-08-01-properties-sell.csv\n",
      "properati-AR-2017-03-01-properties-sell.csv\n",
      "properati-AR-2014-12-01-properties-sell.csv\n",
      "properati-AR-2015-12-01-properties-sell.csv\n",
      "properati-AR-2016-06-01-properties-sell.csv\n",
      "properati-AR-2015-06-01-properties-sell.csv\n",
      "properati-AR-2014-08-01-properties-sell.csv\n",
      "properati-AR-2016-04-01-properties-sell.csv\n",
      "properati-AR-2015-01-01-properties-sell.csv\n",
      "properati-AR-2014-06-01-properties-sell.csv\n",
      "properati-AR-2017-02-01-properties-sell.csv\n",
      "properati-AR-2013-11-01-properties-sell.csv\n",
      "properati-AR-2016-05-01-properties-sell.csv\n",
      "properati-AR-2015-03-01-properties-sell.csv\n",
      "properati-AR-2016-07-01-properties-sell.csv\n",
      "properati-AR-2014-07-01-properties-sell.csv\n",
      "properati-AR-2014-10-01-properties-sell.csv\n",
      "properati-AR-2015-11-01-properties-sell.csv\n",
      "properati-AR-2014-04-01-properties-sell.csv\n",
      "properati-AR-2017-06-06-properties-sell.csv\n",
      "properati-AR-2014-03-01-properties-sell.csv\n",
      "properati-AR-2017-06-01-properties-sell.csv\n",
      "properati-AR-2016-12-01-properties-sell.csv\n",
      "properati-AR-2015-10-01-properties-sell.csv\n",
      "properati-AR-2015-07-01-properties-sell.csv\n",
      "properati-AR-2015-09-01-properties-sell.csv\n",
      "properati-AR-2016-03-01-properties-sell.csv\n",
      "properati-AR-2017-04-01-properties-sell.csv\n",
      "properati-AR-2017-07-03-properties-sell.csv\n",
      "properati-AR-2016-02-01-properties-sell.csv\n",
      "properati-AR-2016-10-01-properties-sell.csv\n",
      "Done\n"
     ]
    }
   ],
   "source": [
    "\"\"\"# Ruta de la carpeta con los archivos de datos modificados\n",
    "root = \"./properties/\"\n",
    "indexAcum = 0\n",
    "for archive in listdir(root):\n",
    "    if \".csv\" not in archive:\n",
    "        continue\n",
    "    if archive in archivesProceced:\n",
    "        continue\n",
    "    df = pd.read_csv(root + archive, low_memory = False)\n",
    "    \n",
    "    df = df.loc[df.place_with_parent_names.str.contains('Capital Federal') \\\n",
    "        | df.place_with_parent_names.str.contains('Bs.As. G.B.A.'), :]\n",
    "    \n",
    "    # Durante la carga de datos, se eliminan ciertas columnas que nos \n",
    "    # resultan irrelevantes para el trabajo.\n",
    "    df = filterUnnecesaryColumns(df, False)\n",
    "\n",
    "    # En algunos casos, es necesario renombrar algunas columnas\n",
    "    if 'price_aprox_usd' not in df:\n",
    "        df.rename(columns = {'price': 'price_aprox_usd'}, inplace = True)\n",
    "    if 'surface_total_in_m2' not in df:\n",
    "        df.rename(columns = {'surface_in_m2': 'surface_total_in_m2'}, \\\n",
    "            inplace = True)\n",
    "\n",
    "    # Aquí reconvertimos algunas columnas a punto flotante\n",
    "    df.loc[:, 'price_aprox_usd'] = df.loc[:, ['price_aprox_usd']]\\\n",
    "        .apply(lambda x: float(x), axis = 1)\n",
    "    df.loc[:, 'price_usd_per_m2'] = df.loc[:, ['price_usd_per_m2']]\\\n",
    "        .apply(lambda x: float(x), axis = 1)\n",
    "\n",
    "    # Obtenemos el año y mes del nombre de archivo\n",
    "    df = addDate(archive, df)\n",
    "\n",
    "    # Antes de filtrar me fijo si puedo recuperar la superficie del campo descripcion\n",
    "    df['surface_total_in_m2'] = getSurface(df)\n",
    "    \n",
    "    # Aquí aplicamos el filtro antes declarado\n",
    "    df['filter1'] = df.loc[:, ['price_aprox_usd', 'price_usd_per_m2', \\\n",
    "            'surface_total_in_m2']].apply(lambda x: filterImposibles(x), axis = 1)\n",
    "    df = df[df['filter1'] == 1]\n",
    "    df.drop('filter1', axis = 1, inplace = True)\n",
    "    \n",
    "    size = len(df.index)\n",
    "    if size == 0:\n",
    "        continue\n",
    "    \n",
    "    df.loc[:, ['price_aprox_usd']] = df.loc[:, ['price_aprox_usd', \\\n",
    "            'price_usd_per_m2', 'surface_total_in_m2']].apply(lambda x: fillPrice(x), axis = 1)\n",
    "    \n",
    "    df.loc[:, ['price_usd_per_m2']] = df.loc[:, ['price_aprox_usd', \\\n",
    "            'price_usd_per_m2', 'surface_total_in_m2']].apply(lambda x: fillM2(x), axis = 1)\n",
    "    \n",
    "    df.loc[:, ['surface_total_in_m2']] = df.loc[:, ['price_aprox_usd', \\\n",
    "            'price_usd_per_m2', 'surface_total_in_m2']].apply(lambda x: fillSurface(x), axis = 1)\n",
    "    \n",
    "    df['filter2'] = df.loc[:, ['price_aprox_usd', 'price_usd_per_m2', \\\n",
    "            'surface_total_in_m2']].apply(lambda x: filterPercentage(x), axis = 1)\n",
    "    df = df[df['filter2'] == 1]\n",
    "    df.drop('filter2', axis = 1, inplace = True)\n",
    "    \n",
    "    #-------------------------------------------------------------\n",
    "    df.loc[:, ['place_with_parent_names']] = df.loc[:, ['place_with_parent_names']]\\\n",
    "    .apply(lambda x: PlaceToNumber(x), axis = 1)\n",
    "    df = changePropertyTypeColumn(df)\n",
    "    #df.loc[:, ['floor']] = df.loc[:, ['floor']].apply(lambda x: aggFloor(x), axis = 1)\n",
    "    #-------------------------------------------------------------\n",
    "    \n",
    "    # Si el filtrado es tal que me quedo sin dataframe, \n",
    "    # entonces salto a la siguiente iteracion\n",
    "    size = len(df.index)\n",
    "    if size == 0:\n",
    "        continue\n",
    "    \n",
    "    #Obtengo los campos de descripcion\n",
    "    df['rooms'] = getRooms(df)\n",
    "    df['description'] = crear_diccionario_descripcion(df)\n",
    "    df = addDescriptionColumns(df, 'description')\n",
    "    df.drop('description', axis = 1, inplace = True)\n",
    "    \n",
    "    # Finalmente, guardamos los archivos modificados.\n",
    "    indexAcum += size\n",
    "    newIndex = [i for i in range(indexAcum, indexAcum+size)]\n",
    "    df.reindex(newIndex)\n",
    "    print archive\n",
    "    properties.append(df)\n",
    "    archivesProceced.append(archive)\n",
    "#-------------------------------------------------------------------\n",
    "#-------------------------------------------------------------------\n",
    "#Genero un nuevo csv con la concatenacion de todos ellos en uno solo\n",
    "general = pd.concat(properties)\n",
    "\n",
    "#Borro las columnas vacias\n",
    "for column in general.columns.values:\n",
    "    if 'unnamed' not in column.lower():\n",
    "        continue\n",
    "    general.drop(column, axis = 1, inplace = True)\n",
    "\n",
    "general.loc[:, ['date']] = pd.to_datetime(general['date'], errors = 'coerce')\n",
    "\n",
    "#Grabo la concatenacion en un unico csv\n",
    "try:\n",
    "    general.to_csv(\"propertiesConCat.csv\", index = True, header = True, \\\n",
    "        sep = ',', encoding = 'utf-8-sig')\n",
    "    print('Done')\n",
    "except value:\n",
    "    print('Error')\"\"\""
   ]
  },
  {
   "cell_type": "code",
   "execution_count": 28,
   "metadata": {},
   "outputs": [
    {
     "name": "stdout",
     "output_type": "stream",
     "text": [
      "49\n"
     ]
    }
   ],
   "source": [
    "print len(archivesProceced)"
   ]
  },
  {
   "cell_type": "code",
   "execution_count": 52,
   "metadata": {},
   "outputs": [],
   "source": [
    "df = pd.read_csv(\"propertiesConCat.csv\", low_memory = False)"
   ]
  },
  {
   "cell_type": "code",
   "execution_count": 54,
   "metadata": {},
   "outputs": [],
   "source": [
    "columns = [\n",
    "    'price_aprox_usd.1', \n",
    "    'Unnamed: 0', \n",
    "    'price_per_m2', \n",
    "    'property_type', \n",
    "    'date', \n",
    "    'lat',\n",
    "    'lon',\n",
    "    'floor', \n",
    "    'state_name', \n",
    "    'place_name',\n",
    "    'price_usd_per_m2'\n",
    "]"
   ]
  },
  {
   "cell_type": "code",
   "execution_count": 55,
   "metadata": {},
   "outputs": [],
   "source": [
    "df.drop(columns, axis = 1, inplace = True)"
   ]
  },
  {
   "cell_type": "code",
   "execution_count": 56,
   "metadata": {},
   "outputs": [],
   "source": [
    "columns = list(df.columns.values)\n",
    "for column in columns:\n",
    "    if \"unnamed\" in column.lower():\n",
    "        df.drop(column, axis = 1, inplace = True) "
   ]
  },
  {
   "cell_type": "code",
   "execution_count": 58,
   "metadata": {},
   "outputs": [],
   "source": [
    "df.to_csv(\"propertiesConCat.csv\", index = True, header = True, sep = ',', encoding = 'utf-8-sig')"
   ]
  },
  {
   "cell_type": "markdown",
   "metadata": {},
   "source": [
    "# Process"
   ]
  },
  {
   "cell_type": "code",
   "execution_count": 62,
   "metadata": {},
   "outputs": [],
   "source": [
    "def ProcessTrainSet(df, withPrice):\n",
    "    df.drop('Unnamed: 0', axis = 1, inplace = True)\n",
    "    df.dropna(axis=0, how='any', subset=list(df.columns.values), inplace=True)\n",
    "    \n",
    "    target = df['price_aprox_usd'].tolist()\n",
    "    if withPrice:\n",
    "        df.drop('price_aprox_usd', axis = 1, inplace = True)\n",
    "    \n",
    "    columns = list(df.columns.values)\n",
    "    data = list(df.values)\n",
    "    return data, target"
   ]
  },
  {
   "cell_type": "code",
   "execution_count": 135,
   "metadata": {},
   "outputs": [],
   "source": [
    "df = pd.read_csv(\"propertiesConCat.csv\", low_memory = False)"
   ]
  },
  {
   "cell_type": "code",
   "execution_count": 136,
   "metadata": {},
   "outputs": [],
   "source": [
    "df.drop(['rooms', 'surface_total_in_m2'], axis = 1, inplace = True)"
   ]
  },
  {
   "cell_type": "code",
   "execution_count": 137,
   "metadata": {},
   "outputs": [],
   "source": [
    "data, target = ProcessTrainSet(df, True)"
   ]
  },
  {
   "cell_type": "code",
   "execution_count": 138,
   "metadata": {},
   "outputs": [
    {
     "name": "stdout",
     "output_type": "stream",
     "text": [
      "data size:  1485934\n",
      "target size:  1485934\n",
      "columns size:  11\n"
     ]
    }
   ],
   "source": [
    "columns = list(df.columns.values)\n",
    "print \"data size: \", len(data)\n",
    "print \"target size: \", len(target)\n",
    "print \"columns size: \", len(columns)"
   ]
  },
  {
   "cell_type": "code",
   "execution_count": 139,
   "metadata": {},
   "outputs": [
    {
     "data": {
      "text/plain": [
       "LinearRegression(copy_X=True, fit_intercept=True, n_jobs=1, normalize=True)"
      ]
     },
     "execution_count": 139,
     "metadata": {},
     "output_type": "execute_result"
    }
   ],
   "source": [
    "lr = LinearRegression(normalize=True)\n",
    "lr.fit(data, target)"
   ]
  },
  {
   "cell_type": "code",
   "execution_count": 140,
   "metadata": {},
   "outputs": [
    {
     "name": "stdout",
     "output_type": "stream",
     "text": [
      "cancha de tenis: -23983.92525\n",
      "club house:  14482.61958\n",
      "cochera: -16263.25870\n",
      "comedor:  95156.04421\n",
      "futbol 5:  55596.98260\n",
      " living:  14236.45280\n",
      " pileta:  183891.05644\n",
      "piscina:  115610.68301\n",
      "place_with_parent_names: -13930.83629\n",
      "sector de juegos infantiles: -14937.73541\n",
      "seguridad las 24 hs:  24591.06336\n"
     ]
    }
   ],
   "source": [
    "for (feature, coef) in zip(columns, lr.coef_):\n",
    "    print('{:>7}: {: 9.5f}'.format(feature, coef))"
   ]
  },
  {
   "cell_type": "markdown",
   "metadata": {},
   "source": [
    "# Sample para testear la prediccion"
   ]
  },
  {
   "cell_type": "code",
   "execution_count": 141,
   "metadata": {},
   "outputs": [],
   "source": [
    "sample = pd.read_csv(\"propertiesConCat.csv\", low_memory = False)\n",
    "sample = sample.sample(frac=0.3, replace=True)"
   ]
  },
  {
   "cell_type": "code",
   "execution_count": 142,
   "metadata": {},
   "outputs": [],
   "source": [
    "sample.drop(['rooms', 'surface_total_in_m2'], axis = 1, inplace = True)"
   ]
  },
  {
   "cell_type": "code",
   "execution_count": 143,
   "metadata": {},
   "outputs": [],
   "source": [
    "data, target = ProcessTrainSet(sample, True)"
   ]
  },
  {
   "cell_type": "code",
   "execution_count": 144,
   "metadata": {},
   "outputs": [
    {
     "data": {
      "text/plain": [
       "<matplotlib.text.Text at 0x7fa1a5eafc50>"
      ]
     },
     "execution_count": 144,
     "metadata": {},
     "output_type": "execute_result"
    },
    {
     "data": {
      "image/png": "[encoded data removed]",
      "text/plain": [
       "<matplotlib.figure.Figure at 0x7fa1a5eafd90>"
      ]
     },
     "metadata": {},
     "output_type": "display_data"
    }
   ],
   "source": [
    "predictions = lr.predict(data)\n",
    "f, ax = plt.subplots(1)\n",
    "ax.hist(target - predictions, bins=50, alpha=0.7)\n",
    "ax.set_title('Histograma de residuales')\n",
    "ax.text(0.95, 0.90, 'Media de residuales: {:.3e}'.format(np.mean(target - predictions)),\n",
    "        transform=ax.transAxes, verticalalignment='top', horizontalalignment='right')"
   ]
  },
  {
   "cell_type": "markdown",
   "metadata": {},
   "source": [
    "# Preproceso del set de test "
   ]
  },
  {
   "cell_type": "code",
   "execution_count": 145,
   "metadata": {},
   "outputs": [
    {
     "data": {
      "text/plain": [
       "['cancha de tenis',\n",
       " 'club house',\n",
       " 'cochera',\n",
       " 'comedor',\n",
       " 'futbol 5',\n",
       " 'living',\n",
       " 'pileta',\n",
       " 'piscina',\n",
       " 'place_with_parent_names',\n",
       " 'sector de juegos infantiles',\n",
       " 'seguridad las 24 hs']"
      ]
     },
     "execution_count": 145,
     "metadata": {},
     "output_type": "execute_result"
    }
   ],
   "source": [
    "columnsToEvaluate = columns\n",
    "columnsToEvaluate"
   ]
  },
  {
   "cell_type": "code",
   "execution_count": 272,
   "metadata": {},
   "outputs": [],
   "source": [
    "def deleteColumnsTestData(df, columnsToEvaluate):\n",
    "    columns = list(df.columns.values)\n",
    "    for column in columns:\n",
    "        if column in columnsToEvaluate:\n",
    "            continue\n",
    "        df.drop(column, axis = 1, inplace = True)\n",
    "    return df"
   ]
  },
  {
   "cell_type": "code",
   "execution_count": 273,
   "metadata": {},
   "outputs": [],
   "source": [
    "def preProcessTestData(df):\n",
    "    df = filterUnnecesaryColumns(df, True)\n",
    "    df['rooms'] = getRooms(df)\n",
    "    df['surface_total_in_m2'] = getSurface(df)\n",
    "    df['description'] = crear_diccionario_descripcion(df)\n",
    "    df = addDescriptionColumns(df, 'description')\n",
    "    df = changePlaceWithParentsNamesColumn(df)\n",
    "    df = changePropertyTypeColumn(df)\n",
    "    return df"
   ]
  },
  {
   "cell_type": "code",
   "execution_count": 274,
   "metadata": {},
   "outputs": [],
   "source": [
    "def GetDataAsList(df):\n",
    "    columns = list(df.columns.values)\n",
    "    data = list(df.values)\n",
    "    return data"
   ]
  },
  {
   "cell_type": "code",
   "execution_count": 326,
   "metadata": {},
   "outputs": [],
   "source": [
    "predictDf = pd.read_csv(\"properati_dataset_testing_noprice.csv\", low_memory = False)"
   ]
  },
  {
   "cell_type": "code",
   "execution_count": 327,
   "metadata": {},
   "outputs": [],
   "source": [
    "predictDf = preProcessTestData(predictDf)"
   ]
  },
  {
   "cell_type": "code",
   "execution_count": 157,
   "metadata": {},
   "outputs": [],
   "source": [
    "ids = predictDf['id']"
   ]
  },
  {
   "cell_type": "code",
   "execution_count": 158,
   "metadata": {},
   "outputs": [],
   "source": [
    "predictDf = deleteColumnsTestData(predictDf, columnsToEvaluate)"
   ]
  },
  {
   "cell_type": "code",
   "execution_count": 159,
   "metadata": {},
   "outputs": [],
   "source": [
    "data = GetDataAsList(predictDf)"
   ]
  },
  {
   "cell_type": "code",
   "execution_count": 160,
   "metadata": {},
   "outputs": [
    {
     "name": "stdout",
     "output_type": "stream",
     "text": [
      "data size:  14166\n",
      "df size:  14166\n",
      "columns size:  11\n"
     ]
    }
   ],
   "source": [
    "print \"data size: \", len(data)\n",
    "print \"df size: \", len(predictDf.index)\n",
    "print \"columns size: \", len(predictDf.columns.values)\n",
    "#row should be 14166"
   ]
  },
  {
   "cell_type": "code",
   "execution_count": 161,
   "metadata": {},
   "outputs": [],
   "source": [
    "predictions = lr.predict(data)"
   ]
  },
  {
   "cell_type": "code",
   "execution_count": 162,
   "metadata": {},
   "outputs": [],
   "source": [
    "final = pd.DataFrame()\n",
    "final['id'] = ids\n",
    "final['price_usd'] = predictions"
   ]
  },
  {
   "cell_type": "code",
   "execution_count": 163,
   "metadata": {},
   "outputs": [],
   "source": [
    "final = final.reset_index()\n",
    "final.drop('index', axis = 1, inplace = True)"
   ]
  },
  {
   "cell_type": "code",
   "execution_count": 165,
   "metadata": {},
   "outputs": [],
   "source": [
    "final.to_csv(\"properati_dataset_sample_submision.csv\", index = True, header = True, sep = ',', encoding = 'utf-8-sig')"
   ]
  }
 ],
 "metadata": {
  "kernelspec": {
   "display_name": "Python 2",
   "language": "python",
   "name": "python2"
  },
  "language_info": {
   "codemirror_mode": {
    "name": "ipython",
    "version": 2
   },
   "file_extension": ".py",
   "mimetype": "text/x-python",
   "name": "python",
   "nbconvert_exporter": "python",
   "pygments_lexer": "ipython2",
   "version": "2.7.12"
  }
 },
 "nbformat": 4,
 "nbformat_minor": 2
}
