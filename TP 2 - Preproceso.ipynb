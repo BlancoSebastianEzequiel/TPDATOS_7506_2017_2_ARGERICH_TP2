{
 "cells": [
  {
   "cell_type": "markdown",
   "metadata": {},
   "source": [
    "<h3>Preprocessing</h3>\n",
    "<p>Aquí nos encargamos de leer la base de datos, limpiar, y expandir los mismos</p>"
   ]
  },
  {
   "cell_type": "code",
   "execution_count": null,
   "metadata": {},
   "outputs": [],
   "source": [
    "# No vamos a graficar, de momento\n",
    "#%matplotlib inline\n",
    "\n",
    "import pandas as pd\n",
    "import numpy as np\n",
    "#import matplotlib.pyplot as plt\n",
    "from os import listdir\n",
    "\n",
    "from machineLearning import preprocessing"
   ]
  },
  {
   "cell_type": "code",
   "execution_count": null,
   "metadata": {
    "collapsed": true
   },
   "outputs": [],
   "source": [
    "# Esta función es únicamente para saber si algún archivo se descargó mal\n",
    "def CheckCorruptDownloads():\n",
    "    for archive in listdir(gRutaCarpetaOriginales):\n",
    "        if \".csv\" in archive:\n",
    "            nombreArchivo = gRutaCarpetaOriginales + archive\n",
    "            try:\n",
    "                print(nombreArchivo, end = ': ')\n",
    "                df = LeerDataFrame(nombreArchivo)\n",
    "                print('Ok')\n",
    "            except ValueError:\n",
    "                print(\"Error, archivo corrupto. Descargar de nuevo\")\n",
    "\n",
    "#CheckCorruptDownloads()"
   ]
  },
  {
   "cell_type": "code",
   "execution_count": null,
   "metadata": {
    "scrolled": true
   },
   "outputs": [],
   "source": [
    "import time\n",
    "start = time.time()\n",
    "preprocessing.PreprocesarCarpeta('./properties/', './processed/', ['Argentina'], ['Capital Federal',\n",
    "                                                                                            'Bs.As. G.B.A. Zona Norte',\n",
    "                                                                                            'Bs.As. G.B.A. Zona Oeste',\n",
    "                                                                                            'Bs.As. G.B.A. Zona Sur'])\n",
    "end = time.time()\n",
    "totalTime = end - start\n",
    "print('Time used: ' + str(totalTime))\n"
   ]
  },
  {
   "cell_type": "code",
   "execution_count": null,
   "metadata": {
    "collapsed": true
   },
   "outputs": [],
   "source": []
  }
 ],
 "metadata": {
  "kernelspec": {
   "display_name": "Python 3",
   "language": "python",
   "name": "python3"
  },
  "language_info": {
   "codemirror_mode": {
    "name": "ipython",
    "version": 3
   },
   "file_extension": ".py",
   "mimetype": "text/x-python",
   "name": "python",
   "nbconvert_exporter": "python",
   "pygments_lexer": "ipython3",
   "version": "3.6.2rc1"
  }
 },
 "nbformat": 4,
 "nbformat_minor": 2
}
