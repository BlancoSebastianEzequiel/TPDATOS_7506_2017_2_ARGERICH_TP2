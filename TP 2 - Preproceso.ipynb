{
 "cells": [
  {
   "cell_type": "markdown",
   "metadata": {},
   "source": [
    "<h3>Preprocessing</h3>\n",
    "<p>Aquí nos encargamos de leer la base de datos, limpiar, y expandir los mismos</p>"
   ]
  },
  {
   "cell_type": "code",
   "execution_count": 1,
   "metadata": {
    "collapsed": true
   },
   "outputs": [],
   "source": [
    "# No vamos a graficar, de momento\n",
    "#%matplotlib inline\n",
    "\n",
    "#import matplotlib.pyplot as plt\n",
    "from os import listdir\n",
    "\n",
    "from machineLearning.preprocessing import PreprocesarCarpeta"
   ]
  },
  {
   "cell_type": "code",
   "execution_count": 2,
   "metadata": {},
   "outputs": [],
   "source": [
    "a = \"\"\"\n",
    "# Esta función es únicamente para saber si algún archivo se descargó mal\n",
    "from machineLearning.dataFrameUtils import LeerDataFrame\n",
    "\n",
    "def CheckCorruptDownloads():\n",
    "    for archive in listdir(gRutaCarpetaOriginales):\n",
    "        if \".csv\" in archive:\n",
    "            nombreArchivo = gRutaCarpetaOriginales + archive\n",
    "            try:\n",
    "                print(nombreArchivo, end = ': ')\n",
    "                df = LeerDataFrame(nombreArchivo)\n",
    "                print('Ok')\n",
    "            except ValueError:\n",
    "                print(\"Error, archivo corrupto. Descargar de nuevo\")\n",
    "\n",
    "#CheckCorruptDownloads()\n",
    "\"\"\""
   ]
  },
  {
   "cell_type": "code",
   "execution_count": 3,
   "metadata": {
    "scrolled": false
   },
   "outputs": [
    {
     "name": "stdout",
     "output_type": "stream",
     "text": [
      "Preprocesando <properati-AR-2013-08-01-properties-sell.csv>: Done in 144.1455078125 seconds\n",
      "Preprocesando <properati-AR-2013-09-01-properties-sell.csv>: Done in 142.9111328125 seconds\n",
      "Preprocesando <properati-AR-2013-10-01-properties-sell.csv>: Done in 129.41894555091858 seconds\n",
      "Preprocesando <properati-AR-2013-11-01-properties-sell.csv>: Done in 186.9345703125 seconds\n",
      "Preprocesando <properati-AR-2013-12-01-properties-sell.csv>: Done in 194.220703125 seconds\n",
      "Preprocesando <properati-AR-2014-01-01-properties-sell.csv>: Done in 200.4287109375 seconds\n",
      "Preprocesando <properati-AR-2014-02-01-properties-sell.csv>: Done in 184.921875 seconds\n",
      "Preprocesando <properati-AR-2014-03-01-properties-sell.csv>: Done in 196.294921875 seconds\n",
      "Preprocesando <properati-AR-2014-04-01-properties-sell.csv>: Done in 196.361328125 seconds\n",
      "Preprocesando <properati-AR-2014-05-01-properties-sell.csv>: Done in 162.72656273841858 seconds\n",
      "Preprocesando <properati-AR-2014-06-01-properties-sell.csv>: Done in 176.4970703125 seconds\n",
      "Preprocesando <properati-AR-2014-07-01-properties-sell.csv>: Done in 121.05859375 seconds\n",
      "Preprocesando <properati-AR-2014-08-01-properties-sell.csv>: Done in 105.07910180091858 seconds\n",
      "Preprocesando <properati-AR-2014-09-01-properties-sell.csv>: Done in 71.98535180091858 seconds\n",
      "Preprocesando <properati-AR-2014-10-01-properties-sell.csv>: Done in 89.439453125 seconds\n",
      "Preprocesando <properati-AR-2014-11-01-properties-sell.csv>: Done in 67.54296875 seconds\n",
      "Preprocesando <properati-AR-2014-12-01-properties-sell.csv>: Done in 63.142578125 seconds\n",
      "Preprocesando <properati-AR-2015-01-01-properties-sell.csv>: Done in 59.8369140625 seconds\n",
      "Preprocesando <properati-AR-2015-02-01-properties-sell.csv>: Done in 46.603515625 seconds\n",
      "Preprocesando <properati-AR-2015-03-01-properties-sell.csv>: Done in 69.95312476158142 seconds\n",
      "Preprocesando <properati-AR-2015-04-01-properties-sell.csv>: Done in 104.17578125 seconds\n",
      "Preprocesando <properati-AR-2015-05-01-properties-sell.csv>: Done in 116.5400390625 seconds\n",
      "Preprocesando <properati-AR-2015-06-01-properties-sell.csv>: Done in 127.2412109375 seconds\n",
      "Preprocesando <properati-AR-2015-07-01-properties-sell.csv>: "
     ]
    },
    {
     "name": "stderr",
     "output_type": "stream",
     "text": [
      "C:\\Users\\Monty\\Facultad\\Organización de datos\\machineLearning\\preprocessing.py:48: RuntimeWarning: invalid value encountered in double_scalars\n",
      "  return ((abs(price - (surface * unit_price)) / price) < 0.01)\n"
     ]
    },
    {
     "name": "stdout",
     "output_type": "stream",
     "text": [
      "Done in 46.73046875 seconds\n",
      "Preprocesando <properati-AR-2015-08-01-properties-sell.csv>: Done in 150.5498046875 seconds\n",
      "Preprocesando <properati-AR-2015-09-01-properties-sell.csv>: Done in 201.4521484375 seconds\n",
      "Preprocesando <properati-AR-2015-10-01-properties-sell.csv>: Done in 199.642578125 seconds\n",
      "Preprocesando <properati-AR-2015-11-01-properties-sell.csv>: Done in 207.755859375 seconds\n",
      "Preprocesando <properati-AR-2015-12-01-properties-sell.csv>: Done in 210.0771484375 seconds\n",
      "Preprocesando <properati-AR-2016-01-01-properties-sell.csv>: Done in 62.65234375 seconds\n",
      "Preprocesando <properati-AR-2016-02-01-properties-sell.csv>: Done in 58.96093773841858 seconds\n",
      "Preprocesando <properati-AR-2016-03-01-properties-sell.csv>: Done in 66.1162109375 seconds\n",
      "Preprocesando <properati-AR-2016-04-01-properties-sell.csv>: Done in 73.6484375 seconds\n",
      "Preprocesando <properati-AR-2016-05-01-properties-sell.csv>: Done in 68.216796875 seconds\n",
      "Preprocesando <properati-AR-2016-06-01-properties-sell.csv>: Done in 70.263671875 seconds\n",
      "Preprocesando <properati-AR-2016-07-01-properties-sell.csv>: Done in 81.8623046875 seconds\n",
      "Preprocesando <properati-AR-2016-08-01-properties-sell.csv>: Done in 83.79785180091858 seconds\n",
      "Preprocesando <properati-AR-2016-09-01-properties-sell.csv>: Done in 89.97363257408142 seconds\n",
      "Preprocesando <properati-AR-2016-10-01-properties-sell.csv>: Done in 95.25878930091858 seconds\n",
      "Preprocesando <properati-AR-2016-11-01-properties-sell.csv>: Done in 113.935546875 seconds\n",
      "Preprocesando <properati-AR-2016-12-01-properties-sell.csv>: Done in 133.22363305091858 seconds\n",
      "Preprocesando <properati-AR-2017-01-01-properties-sell.csv>: Done in 137.66210913658142 seconds\n",
      "Preprocesando <properati-AR-2017-02-01-properties-sell.csv>: Done in 141.6630859375 seconds\n",
      "Preprocesando <properati-AR-2017-03-01-properties-sell.csv>: Done in 146.4208984375 seconds\n",
      "Preprocesando <properati-AR-2017-04-01-properties-sell.csv>: Done in 155.23046875 seconds\n",
      "Preprocesando <properati-AR-2017-05-01-properties-sell.csv>: Done in 181.7041015625 seconds\n",
      "Preprocesando <properati-AR-2017-05-31-properties-sell.csv>: Done in 306.8408200740814 seconds\n",
      "Preprocesando <properati-AR-2017-06-01-properties-sell.csv>: Done in 182.9013671875 seconds\n",
      "Preprocesando <properati-AR-2017-06-06-properties-sell.csv>: Done in 287.8857421875 seconds\n",
      "Preprocesando <properati-AR-2017-07-03-properties-sell.csv>: Done in 273.4111328125 seconds\n",
      "Time used: 6830.316406011581\n"
     ]
    }
   ],
   "source": [
    "import time\n",
    "start = time.time()\n",
    "\n",
    "listaPaises = ['Argentina']\n",
    "listaProvincias = ['Capital Federal',\n",
    "                    'Bs.As. G.B.A. Zona Norte',\n",
    "                    'Bs.As. G.B.A. Zona Oeste',\n",
    "                    'Bs.As. G.B.A. Zona Sur',\n",
    "                    'Buenos Aires Interior']\n",
    "\n",
    "PreprocesarCarpeta('./properties/', './processed/', listaPaises, listaProvincias, './extraDF/')\n",
    "end = time.time()\n",
    "totalTime = end - start\n",
    "print('Time used: ' + str(totalTime))"
   ]
  },
  {
   "cell_type": "code",
   "execution_count": null,
   "metadata": {
    "collapsed": true
   },
   "outputs": [],
   "source": []
  }
 ],
 "metadata": {
  "kernelspec": {
   "display_name": "Python 3",
   "language": "python",
   "name": "python3"
  },
  "language_info": {
   "codemirror_mode": {
    "name": "ipython",
    "version": 3
   },
   "file_extension": ".py",
   "mimetype": "text/x-python",
   "name": "python",
   "nbconvert_exporter": "python",
   "pygments_lexer": "ipython3",
   "version": "3.6.2rc1"
  }
 },
 "nbformat": 4,
 "nbformat_minor": 2
}
