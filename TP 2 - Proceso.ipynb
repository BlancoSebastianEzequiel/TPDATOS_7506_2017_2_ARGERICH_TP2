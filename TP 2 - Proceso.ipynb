{
 "cells": [
  {
   "cell_type": "markdown",
   "metadata": {},
   "source": [
    "<h3>Proceso</h3>\n",
    "<p>Aquí nos encargamos de generar el dataframe con los promedios de los precios unitarios por barrio en el tiempo; y el dataFrame con los coeficientes</p>"
   ]
  },
  {
   "cell_type": "code",
   "execution_count": null,
   "metadata": {
    "collapsed": true
   },
   "outputs": [],
   "source": [
    "# No vamos a graficar, de momento\n",
    "#%matplotlib inline\n",
    "\n",
    "import pandas as pd\n",
    "import numpy as np\n",
    "#import matplotlib.pyplot as plt\n",
    "\n",
    "from machineLearning import dataFrameUtils\n",
    "from machineLearning import processing\n",
    "from machineLearning.descriptionExpansion import gClaves"
   ]
  },
  {
   "cell_type": "code",
   "execution_count": null,
   "metadata": {},
   "outputs": [],
   "source": [
    "import time\n",
    "start = time.time()\n",
    "\n",
    "gDataFrameGlobal = dataFrameUtils.LeerCarpetaDataFrames('./processed/')\n",
    "gBarriosPrecioUnitario = processing.CalcularPrecioUnitarioPromedioPorBarrio(gDataFrameGlobal)\n",
    "gBarriosSuperfice = processing.CalcularSuperficiePromedioPorBarrio(gDataFrameGlobal)\n",
    "gBarrios = processing.UnirPromediosPorBarrio(gBarriosPrecioUnitario, gBarriosSuperfice)\n",
    "gBarrios.to_csv('PromediosBarrios.csv', encoding = 'utf-8', index = False)\n",
    "gDataFrameGlobal = processing.AgregarPromediosPorBarrios(gDataFrameGlobal, gBarriosPrecioUnitario)\n",
    "processing.AgregarCoeficientesGlobales(gDataFrameGlobal)\n",
    "gCoeficientes = processing.ProcesoIterativo(gDataFrameGlobal, ['rooms', 'floor'])\n",
    "gCoeficientes.to_csv('Coeficientes.csv', encoding = 'utf-8', index = False)\n",
    "\n",
    "end = time.time()\n",
    "totalTime = end - start\n",
    "print('Time used: ' + str(totalTime))"
   ]
  },
  {
   "cell_type": "code",
   "execution_count": null,
   "metadata": {
    "collapsed": true
   },
   "outputs": [],
   "source": []
  }
 ],
 "metadata": {
  "kernelspec": {
   "display_name": "Python 3",
   "language": "python",
   "name": "python3"
  },
  "language_info": {
   "codemirror_mode": {
    "name": "ipython",
    "version": 3
   },
   "file_extension": ".py",
   "mimetype": "text/x-python",
   "name": "python",
   "nbconvert_exporter": "python",
   "pygments_lexer": "ipython3",
   "version": "3.6.2rc1"
  }
 },
 "nbformat": 4,
 "nbformat_minor": 2
}
